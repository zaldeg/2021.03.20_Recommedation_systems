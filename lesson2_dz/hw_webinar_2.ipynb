{
 "cells": [
  {
   "cell_type": "code",
   "execution_count": 1,
   "metadata": {
    "colab": {},
    "colab_type": "code",
    "id": "rgIzW-DSC8Yi"
   },
   "outputs": [],
   "source": [
    "import pandas as pd\n",
    "import numpy as np\n",
    "import matplotlib.pyplot as plt\n",
    "%matplotlib inline\n",
    "\n",
    "# Для работы с матрицами\n",
    "from scipy.sparse import csr_matrix, coo_matrix\n",
    "\n",
    "# Детерминированные алгоритмы\n",
    "from implicit.nearest_neighbours import ItemItemRecommender, CosineRecommender, TFIDFRecommender, BM25Recommender\n",
    "\n",
    "# Метрики\n",
    "from implicit.evaluation import train_test_split\n",
    "from implicit.evaluation import precision_at_k, mean_average_precision_at_k, AUC_at_k, ndcg_at_k"
   ]
  },
  {
   "cell_type": "code",
   "execution_count": 2,
   "metadata": {
    "colab": {},
    "colab_type": "code",
    "id": "9qFkcgyrC8Yt",
    "outputId": "24a33bf1-942a-4b18-c54a-a7500c8f8712"
   },
   "outputs": [
    {
     "output_type": "execute_result",
     "data": {
      "text/plain": [
       "   user_id    basket_id  day  item_id  quantity  sales_value  store_id  \\\n",
       "0     2375  26984851472    1  1004906         1         1.39       364   \n",
       "1     2375  26984851472    1  1033142         1         0.82       364   \n",
       "2     2375  26984851472    1  1036325         1         0.99       364   \n",
       "3     2375  26984851472    1  1082185         1         1.21       364   \n",
       "4     2375  26984851472    1  8160430         1         1.50       364   \n",
       "\n",
       "   retail_disc  trans_time  week_no  coupon_disc  coupon_match_disc  \n",
       "0        -0.60        1631        1          0.0                0.0  \n",
       "1         0.00        1631        1          0.0                0.0  \n",
       "2        -0.30        1631        1          0.0                0.0  \n",
       "3         0.00        1631        1          0.0                0.0  \n",
       "4        -0.39        1631        1          0.0                0.0  "
      ],
      "text/html": "<div>\n<style scoped>\n    .dataframe tbody tr th:only-of-type {\n        vertical-align: middle;\n    }\n\n    .dataframe tbody tr th {\n        vertical-align: top;\n    }\n\n    .dataframe thead th {\n        text-align: right;\n    }\n</style>\n<table border=\"1\" class=\"dataframe\">\n  <thead>\n    <tr style=\"text-align: right;\">\n      <th></th>\n      <th>user_id</th>\n      <th>basket_id</th>\n      <th>day</th>\n      <th>item_id</th>\n      <th>quantity</th>\n      <th>sales_value</th>\n      <th>store_id</th>\n      <th>retail_disc</th>\n      <th>trans_time</th>\n      <th>week_no</th>\n      <th>coupon_disc</th>\n      <th>coupon_match_disc</th>\n    </tr>\n  </thead>\n  <tbody>\n    <tr>\n      <th>0</th>\n      <td>2375</td>\n      <td>26984851472</td>\n      <td>1</td>\n      <td>1004906</td>\n      <td>1</td>\n      <td>1.39</td>\n      <td>364</td>\n      <td>-0.60</td>\n      <td>1631</td>\n      <td>1</td>\n      <td>0.0</td>\n      <td>0.0</td>\n    </tr>\n    <tr>\n      <th>1</th>\n      <td>2375</td>\n      <td>26984851472</td>\n      <td>1</td>\n      <td>1033142</td>\n      <td>1</td>\n      <td>0.82</td>\n      <td>364</td>\n      <td>0.00</td>\n      <td>1631</td>\n      <td>1</td>\n      <td>0.0</td>\n      <td>0.0</td>\n    </tr>\n    <tr>\n      <th>2</th>\n      <td>2375</td>\n      <td>26984851472</td>\n      <td>1</td>\n      <td>1036325</td>\n      <td>1</td>\n      <td>0.99</td>\n      <td>364</td>\n      <td>-0.30</td>\n      <td>1631</td>\n      <td>1</td>\n      <td>0.0</td>\n      <td>0.0</td>\n    </tr>\n    <tr>\n      <th>3</th>\n      <td>2375</td>\n      <td>26984851472</td>\n      <td>1</td>\n      <td>1082185</td>\n      <td>1</td>\n      <td>1.21</td>\n      <td>364</td>\n      <td>0.00</td>\n      <td>1631</td>\n      <td>1</td>\n      <td>0.0</td>\n      <td>0.0</td>\n    </tr>\n    <tr>\n      <th>4</th>\n      <td>2375</td>\n      <td>26984851472</td>\n      <td>1</td>\n      <td>8160430</td>\n      <td>1</td>\n      <td>1.50</td>\n      <td>364</td>\n      <td>-0.39</td>\n      <td>1631</td>\n      <td>1</td>\n      <td>0.0</td>\n      <td>0.0</td>\n    </tr>\n  </tbody>\n</table>\n</div>"
     },
     "metadata": {},
     "execution_count": 2
    }
   ],
   "source": [
    "data = pd.read_csv('./retail_train.csv')\n",
    "data.head()"
   ]
  },
  {
   "cell_type": "code",
   "execution_count": 3,
   "metadata": {
    "colab": {},
    "colab_type": "code",
    "id": "epcBZlgJC8Y0"
   },
   "outputs": [],
   "source": [
    "test_size_weeks = 3\n",
    "\n",
    "data_train = data[data['week_no'] < data['week_no'].max() - test_size_weeks]\n",
    "data_test = data[data['week_no'] >= data['week_no'].max() - test_size_weeks]"
   ]
  },
  {
   "cell_type": "code",
   "execution_count": 4,
   "metadata": {},
   "outputs": [],
   "source": [
    "popularity1 = data.groupby('item_id')['sales_value'].sum().reset_index()"
   ]
  },
  {
   "source": [
    "Любое значение log(sales_values < 1) = отрицательному числу, а занчит отрицательной вероятности, следовательно заменяем их на 1, что даст вероятность 0."
   ],
   "cell_type": "markdown",
   "metadata": {}
  },
  {
   "cell_type": "code",
   "execution_count": 5,
   "metadata": {},
   "outputs": [],
   "source": [
    "popularity1['sales_value'].where(popularity1['sales_value'] > 1, 1, inplace=True)\n",
    "log_sales_value = np.log(popularity1['sales_value'])\n",
    "popularity1['log_weight'] = log_sales_value / log_sales_value.sum()"
   ]
  },
  {
   "cell_type": "code",
   "execution_count": 6,
   "metadata": {},
   "outputs": [
    {
     "output_type": "execute_result",
     "data": {
      "text/plain": [
       "   item_id  sales_value  log_weight\n",
       "0    25671        20.94    0.000013\n",
       "1    26081         1.00    0.000000\n",
       "2    26093         1.59    0.000002\n",
       "3    26190         1.54    0.000002\n",
       "4    26355         1.98    0.000003"
      ],
      "text/html": "<div>\n<style scoped>\n    .dataframe tbody tr th:only-of-type {\n        vertical-align: middle;\n    }\n\n    .dataframe tbody tr th {\n        vertical-align: top;\n    }\n\n    .dataframe thead th {\n        text-align: right;\n    }\n</style>\n<table border=\"1\" class=\"dataframe\">\n  <thead>\n    <tr style=\"text-align: right;\">\n      <th></th>\n      <th>item_id</th>\n      <th>sales_value</th>\n      <th>log_weight</th>\n    </tr>\n  </thead>\n  <tbody>\n    <tr>\n      <th>0</th>\n      <td>25671</td>\n      <td>20.94</td>\n      <td>0.000013</td>\n    </tr>\n    <tr>\n      <th>1</th>\n      <td>26081</td>\n      <td>1.00</td>\n      <td>0.000000</td>\n    </tr>\n    <tr>\n      <th>2</th>\n      <td>26093</td>\n      <td>1.59</td>\n      <td>0.000002</td>\n    </tr>\n    <tr>\n      <th>3</th>\n      <td>26190</td>\n      <td>1.54</td>\n      <td>0.000002</td>\n    </tr>\n    <tr>\n      <th>4</th>\n      <td>26355</td>\n      <td>1.98</td>\n      <td>0.000003</td>\n    </tr>\n  </tbody>\n</table>\n</div>"
     },
     "metadata": {},
     "execution_count": 6
    }
   ],
   "source": [
    "popularity1.head()"
   ]
  },
  {
   "cell_type": "code",
   "execution_count": 7,
   "metadata": {},
   "outputs": [
    {
     "output_type": "execute_result",
     "data": {
      "text/plain": [
       "0.9999999999999999"
      ]
     },
     "metadata": {},
     "execution_count": 7
    }
   ],
   "source": [
    "popularity1['log_weight'].sum()"
   ]
  },
  {
   "cell_type": "code",
   "execution_count": 8,
   "metadata": {},
   "outputs": [
    {
     "output_type": "stream",
     "name": "stdout",
     "text": [
      "<class 'pandas.core.frame.DataFrame'>\nRangeIndex: 89051 entries, 0 to 89050\nData columns (total 3 columns):\n #   Column       Non-Null Count  Dtype  \n---  ------       --------------  -----  \n 0   item_id      89051 non-null  int64  \n 1   sales_value  89051 non-null  float64\n 2   log_weight   89051 non-null  float64\ndtypes: float64(2), int64(1)\nmemory usage: 2.0 MB\n"
     ]
    }
   ],
   "source": [
    "popularity1.info()"
   ]
  },
  {
   "cell_type": "markdown",
   "metadata": {
    "colab_type": "text",
    "id": "zlUUzLFeC8Y4"
   },
   "source": [
    "### Задание 1. Weighted Random Recommendation\n",
    "\n",
    "Напишите код для случайных рекоммендаций, в которых вероятность рекомендовать товар прямо пропорциональна логарифму продаж\n",
    "- Можно сэмплировать товары случайно, но пропорционально какому-либо весу\n",
    "- Например, прямопропорционально популярности. Вес = log(sales_sum товара)"
   ]
  },
  {
   "cell_type": "code",
   "execution_count": 9,
   "metadata": {
    "colab": {},
    "colab_type": "code",
    "id": "brMuCHolC8Y4"
   },
   "outputs": [],
   "source": [
    "def weighted_random_recommendation(items_weights, n=5):\n",
    "    \"\"\"Случайные рекоммендации\n",
    "    \n",
    "    Input\n",
    "    -----\n",
    "    items_weights: pd.DataFrame\n",
    "        Датафрейм со столбцами item_id, weight. Сумма weight по всем товарам = 1\n",
    "    \"\"\"\n",
    "    items = np.array(items_weights.iloc[:,0])\n",
    "    p = np.array(items_weights.iloc[:,1])\n",
    "    recs = np.random.choice(items, p=p, size=n, replace=False)\n",
    "    \n",
    "    # Подсказка: необходимо модифицировать функцию random_recommendation()\n",
    "    # your_code\n",
    "    \n",
    "    return recs.tolist()"
   ]
  },
  {
   "cell_type": "code",
   "execution_count": 10,
   "metadata": {},
   "outputs": [
    {
     "output_type": "stream",
     "name": "stdout",
     "text": [
      "Wall time: 7.98 ms\n"
     ]
    },
    {
     "output_type": "execute_result",
     "data": {
      "text/plain": [
       "[1024306, 857620, 6533497, 6514320, 917525]"
      ]
     },
     "metadata": {},
     "execution_count": 10
    }
   ],
   "source": [
    "%%time\n",
    "items_weights = popularity1[['item_id', 'log_weight']]\n",
    "weighted_random_recommendation(items_weights, n=5)"
   ]
  },
  {
   "cell_type": "markdown",
   "metadata": {
    "colab_type": "text",
    "id": "hyNG6O-wC8Y_"
   },
   "source": [
    "### Задание 2. Расчет метрик\n",
    "Рассчитайте Precision@5 для каждого алгоритма с помощью функции из вебинара 1. Какой алгоритм показывает лучшее качество?"
   ]
  },
  {
   "source": [
    "Из файла списки обратно возвращаются в виде строк, это функция возвращает их в нормальный вид."
   ],
   "cell_type": "markdown",
   "metadata": {}
  },
  {
   "source": [
    "def strings_to_lists(data:pd.DataFrame, columns:list) -> pd.DataFrame:\n",
    "    '''\n",
    "    Input:\n",
    "        data - Dataframe to change\n",
    "        columns - list of columns to change\n",
    "    Output:\n",
    "        Changed DataFrame with values changed from str to list in proper way. \n",
    "    '''\n",
    "    for column in columns:\n",
    "        data[column] = data[column].str.replace('[\\D]+', ' ')\n",
    "        data[column] = data[column].str.split()\n",
    "        data[column] = data[column].apply(lambda x: np.array(x).astype('int32'))\n",
    "\n",
    "    return data"
   ],
   "cell_type": "code",
   "metadata": {},
   "execution_count": 11,
   "outputs": []
  },
  {
   "source": [
    "что бы получить top5000 при создании user_item_matrix удаляем  999999 товар(олицетворяющий суммарную чушь купленную не из top 5000) с помощью:\n",
    "\n",
    "```user_item_matrix.drop([999999], axis=1, inplace=True)```\n",
    "\n",
    "это сделано в webinar_2.ipynb"
   ],
   "cell_type": "markdown",
   "metadata": {}
  },
  {
   "cell_type": "code",
   "execution_count": 12,
   "metadata": {
    "colab": {},
    "colab_type": "code",
    "id": "36HtRgm8C8ZA",
    "outputId": "971ccba1-6f06-4ac8-fd2d-10ba527e0fe5"
   },
   "outputs": [
    {
     "output_type": "execute_result",
     "data": {
      "text/plain": [
       "   user_id                                             actual  \\\n",
       "0        1  [  821867   834484   856942   865456   889248 ...   \n",
       "1        3  [  835476   851057   872021   878302   879948 ...   \n",
       "\n",
       "                            random_recommendation  \\\n",
       "0  [13944986, 15686741, 12263710, 99835, 6917798]   \n",
       "1    [823774, 1062493, 6424437, 1138682, 1112146]   \n",
       "\n",
       "                 weighted_random_recommendation  \\\n",
       "0  [9220243, 1011832, 6772676, 833121, 1138192]   \n",
       "1  [5592290, 966891, 909744, 5980713, 13512772]   \n",
       "\n",
       "                          popular_recommendation  \\\n",
       "0  [6534178, 6533889, 1029743, 6534166, 1082185]   \n",
       "1  [6534178, 6533889, 1029743, 6534166, 1082185]   \n",
       "\n",
       "                                     itemitem  \\\n",
       "0  [999999, 1082185, 981760, 1127831, 995242]   \n",
       "1  [999999, 1082185, 981760, 1098066, 995242]   \n",
       "\n",
       "                                        cosine  \\\n",
       "0  [1082185, 999999, 981760, 1127831, 1098066]   \n",
       "1   [1082185, 1098066, 981760, 999999, 826249]   \n",
       "\n",
       "                                         tfidf  \\\n",
       "0  [1082185, 981760, 1127831, 999999, 1098066]   \n",
       "1   [1082185, 981760, 1098066, 826249, 999999]   \n",
       "\n",
       "                                  own_purchases  \n",
       "0   [999999, 1082185, 1029743, 995785, 1004906]  \n",
       "1  [999999, 1082185, 1098066, 6534178, 1127831]  "
      ],
      "text/html": "<div>\n<style scoped>\n    .dataframe tbody tr th:only-of-type {\n        vertical-align: middle;\n    }\n\n    .dataframe tbody tr th {\n        vertical-align: top;\n    }\n\n    .dataframe thead th {\n        text-align: right;\n    }\n</style>\n<table border=\"1\" class=\"dataframe\">\n  <thead>\n    <tr style=\"text-align: right;\">\n      <th></th>\n      <th>user_id</th>\n      <th>actual</th>\n      <th>random_recommendation</th>\n      <th>weighted_random_recommendation</th>\n      <th>popular_recommendation</th>\n      <th>itemitem</th>\n      <th>cosine</th>\n      <th>tfidf</th>\n      <th>own_purchases</th>\n    </tr>\n  </thead>\n  <tbody>\n    <tr>\n      <th>0</th>\n      <td>1</td>\n      <td>[  821867   834484   856942   865456   889248 ...</td>\n      <td>[13944986, 15686741, 12263710, 99835, 6917798]</td>\n      <td>[9220243, 1011832, 6772676, 833121, 1138192]</td>\n      <td>[6534178, 6533889, 1029743, 6534166, 1082185]</td>\n      <td>[999999, 1082185, 981760, 1127831, 995242]</td>\n      <td>[1082185, 999999, 981760, 1127831, 1098066]</td>\n      <td>[1082185, 981760, 1127831, 999999, 1098066]</td>\n      <td>[999999, 1082185, 1029743, 995785, 1004906]</td>\n    </tr>\n    <tr>\n      <th>1</th>\n      <td>3</td>\n      <td>[  835476   851057   872021   878302   879948 ...</td>\n      <td>[823774, 1062493, 6424437, 1138682, 1112146]</td>\n      <td>[5592290, 966891, 909744, 5980713, 13512772]</td>\n      <td>[6534178, 6533889, 1029743, 6534166, 1082185]</td>\n      <td>[999999, 1082185, 981760, 1098066, 995242]</td>\n      <td>[1082185, 1098066, 981760, 999999, 826249]</td>\n      <td>[1082185, 981760, 1098066, 826249, 999999]</td>\n      <td>[999999, 1082185, 1098066, 6534178, 1127831]</td>\n    </tr>\n  </tbody>\n</table>\n</div>"
     },
     "metadata": {},
     "execution_count": 12
    }
   ],
   "source": [
    "result = pd.read_csv('predictions_basic.csv')\n",
    "result_top5000 = pd.read_csv('predictions_basic_top5000.csv')\n",
    "result.head(2)"
   ]
  },
  {
   "cell_type": "code",
   "execution_count": 13,
   "metadata": {},
   "outputs": [
    {
     "output_type": "execute_result",
     "data": {
      "text/plain": [
       "   user_id                                             actual  \\\n",
       "0        1  [  821867   834484   856942   865456   889248 ...   \n",
       "1        3  [  835476   851057   872021   878302   879948 ...   \n",
       "\n",
       "                           random_recommendation  \\\n",
       "0   [981848, 5995494, 1595098, 1130742, 1465377]   \n",
       "1  [6772706, 9521794, 1457212, 8091195, 1125355]   \n",
       "\n",
       "                    weighted_random_recommendation  \\\n",
       "0  [1000486, 12386237, 13987201, 8122541, 1109605]   \n",
       "1      [856008, 1124432, 10355748, 907131, 898217]   \n",
       "\n",
       "                          popular_recommendation  \\\n",
       "0  [6534178, 6533889, 1029743, 6534166, 1082185]   \n",
       "1  [6534178, 6533889, 1029743, 6534166, 1082185]   \n",
       "\n",
       "                                     itemitem  \\\n",
       "0  [1082185, 981760, 1127831, 995242, 840361]   \n",
       "1  [1082185, 981760, 1098066, 826249, 995242]   \n",
       "\n",
       "                                        cosine  \\\n",
       "0  [1082185, 981760, 1127831, 1098066, 961554]   \n",
       "1   [1082185, 1098066, 981760, 826249, 883404]   \n",
       "\n",
       "                                         tfidf  \\\n",
       "0  [1082185, 981760, 1127831, 1098066, 961554]   \n",
       "1   [1082185, 1098066, 981760, 826249, 883404]   \n",
       "\n",
       "                                  own_purchases  \n",
       "0    [1082185, 995242, 1029743, 840361, 904360]  \n",
       "1  [1082185, 1098066, 6534178, 826249, 1127831]  "
      ],
      "text/html": "<div>\n<style scoped>\n    .dataframe tbody tr th:only-of-type {\n        vertical-align: middle;\n    }\n\n    .dataframe tbody tr th {\n        vertical-align: top;\n    }\n\n    .dataframe thead th {\n        text-align: right;\n    }\n</style>\n<table border=\"1\" class=\"dataframe\">\n  <thead>\n    <tr style=\"text-align: right;\">\n      <th></th>\n      <th>user_id</th>\n      <th>actual</th>\n      <th>random_recommendation</th>\n      <th>weighted_random_recommendation</th>\n      <th>popular_recommendation</th>\n      <th>itemitem</th>\n      <th>cosine</th>\n      <th>tfidf</th>\n      <th>own_purchases</th>\n    </tr>\n  </thead>\n  <tbody>\n    <tr>\n      <th>0</th>\n      <td>1</td>\n      <td>[  821867   834484   856942   865456   889248 ...</td>\n      <td>[981848, 5995494, 1595098, 1130742, 1465377]</td>\n      <td>[1000486, 12386237, 13987201, 8122541, 1109605]</td>\n      <td>[6534178, 6533889, 1029743, 6534166, 1082185]</td>\n      <td>[1082185, 981760, 1127831, 995242, 840361]</td>\n      <td>[1082185, 981760, 1127831, 1098066, 961554]</td>\n      <td>[1082185, 981760, 1127831, 1098066, 961554]</td>\n      <td>[1082185, 995242, 1029743, 840361, 904360]</td>\n    </tr>\n    <tr>\n      <th>1</th>\n      <td>3</td>\n      <td>[  835476   851057   872021   878302   879948 ...</td>\n      <td>[6772706, 9521794, 1457212, 8091195, 1125355]</td>\n      <td>[856008, 1124432, 10355748, 907131, 898217]</td>\n      <td>[6534178, 6533889, 1029743, 6534166, 1082185]</td>\n      <td>[1082185, 981760, 1098066, 826249, 995242]</td>\n      <td>[1082185, 1098066, 981760, 826249, 883404]</td>\n      <td>[1082185, 1098066, 981760, 826249, 883404]</td>\n      <td>[1082185, 1098066, 6534178, 826249, 1127831]</td>\n    </tr>\n  </tbody>\n</table>\n</div>"
     },
     "metadata": {},
     "execution_count": 13
    }
   ],
   "source": [
    "result_top5000.head(2)"
   ]
  },
  {
   "source": [
    "исправляем все столюцы на списки."
   ],
   "cell_type": "markdown",
   "metadata": {}
  },
  {
   "cell_type": "code",
   "execution_count": 14,
   "metadata": {},
   "outputs": [],
   "source": [
    "columns = ['actual', 'random_recommendation', 'weighted_random_recommendation', 'popular_recommendation', 'itemitem', 'cosine', 'tfidf' , 'own_purchases']\n",
    "result = strings_to_lists(result, columns)\n",
    "result_top5000 = strings_to_lists(result_top5000, columns)"
   ]
  },
  {
   "cell_type": "code",
   "execution_count": 15,
   "metadata": {},
   "outputs": [
    {
     "output_type": "execute_result",
     "data": {
      "text/plain": [
       "   user_id                                             actual  \\\n",
       "0        1  [821867, 834484, 856942, 865456, 889248, 90795...   \n",
       "1        3  [835476, 851057, 872021, 878302, 879948, 90963...   \n",
       "2        6  [920308, 926804, 946489, 1006718, 1017061, 107...   \n",
       "\n",
       "                            random_recommendation  \\\n",
       "0  [13944986, 15686741, 12263710, 99835, 6917798]   \n",
       "1    [823774, 1062493, 6424437, 1138682, 1112146]   \n",
       "2  [2005109, 15800994, 1124884, 1058046, 1077377]   \n",
       "\n",
       "                 weighted_random_recommendation  \\\n",
       "0  [9220243, 1011832, 6772676, 833121, 1138192]   \n",
       "1  [5592290, 966891, 909744, 5980713, 13512772]   \n",
       "2   [7441191, 1029421, 919294, 950272, 5589845]   \n",
       "\n",
       "                          popular_recommendation  \\\n",
       "0  [6534178, 6533889, 1029743, 6534166, 1082185]   \n",
       "1  [6534178, 6533889, 1029743, 6534166, 1082185]   \n",
       "2  [6534178, 6533889, 1029743, 6534166, 1082185]   \n",
       "\n",
       "                                     itemitem  \\\n",
       "0  [999999, 1082185, 981760, 1127831, 995242]   \n",
       "1  [999999, 1082185, 981760, 1098066, 995242]   \n",
       "2  [999999, 1082185, 981760, 1127831, 995242]   \n",
       "\n",
       "                                        cosine  \\\n",
       "0  [1082185, 999999, 981760, 1127831, 1098066]   \n",
       "1   [1082185, 1098066, 981760, 999999, 826249]   \n",
       "2  [1082185, 999999, 981760, 1127831, 1098066]   \n",
       "\n",
       "                                         tfidf  \\\n",
       "0  [1082185, 981760, 1127831, 999999, 1098066]   \n",
       "1   [1082185, 981760, 1098066, 826249, 999999]   \n",
       "2   [1082185, 981760, 1127831, 999999, 878996]   \n",
       "\n",
       "                                  own_purchases  \n",
       "0   [999999, 1082185, 1029743, 995785, 1004906]  \n",
       "1  [999999, 1082185, 1098066, 6534178, 1127831]  \n",
       "2  [999999, 1082185, 1029743, 6534178, 1127831]  "
      ],
      "text/html": "<div>\n<style scoped>\n    .dataframe tbody tr th:only-of-type {\n        vertical-align: middle;\n    }\n\n    .dataframe tbody tr th {\n        vertical-align: top;\n    }\n\n    .dataframe thead th {\n        text-align: right;\n    }\n</style>\n<table border=\"1\" class=\"dataframe\">\n  <thead>\n    <tr style=\"text-align: right;\">\n      <th></th>\n      <th>user_id</th>\n      <th>actual</th>\n      <th>random_recommendation</th>\n      <th>weighted_random_recommendation</th>\n      <th>popular_recommendation</th>\n      <th>itemitem</th>\n      <th>cosine</th>\n      <th>tfidf</th>\n      <th>own_purchases</th>\n    </tr>\n  </thead>\n  <tbody>\n    <tr>\n      <th>0</th>\n      <td>1</td>\n      <td>[821867, 834484, 856942, 865456, 889248, 90795...</td>\n      <td>[13944986, 15686741, 12263710, 99835, 6917798]</td>\n      <td>[9220243, 1011832, 6772676, 833121, 1138192]</td>\n      <td>[6534178, 6533889, 1029743, 6534166, 1082185]</td>\n      <td>[999999, 1082185, 981760, 1127831, 995242]</td>\n      <td>[1082185, 999999, 981760, 1127831, 1098066]</td>\n      <td>[1082185, 981760, 1127831, 999999, 1098066]</td>\n      <td>[999999, 1082185, 1029743, 995785, 1004906]</td>\n    </tr>\n    <tr>\n      <th>1</th>\n      <td>3</td>\n      <td>[835476, 851057, 872021, 878302, 879948, 90963...</td>\n      <td>[823774, 1062493, 6424437, 1138682, 1112146]</td>\n      <td>[5592290, 966891, 909744, 5980713, 13512772]</td>\n      <td>[6534178, 6533889, 1029743, 6534166, 1082185]</td>\n      <td>[999999, 1082185, 981760, 1098066, 995242]</td>\n      <td>[1082185, 1098066, 981760, 999999, 826249]</td>\n      <td>[1082185, 981760, 1098066, 826249, 999999]</td>\n      <td>[999999, 1082185, 1098066, 6534178, 1127831]</td>\n    </tr>\n    <tr>\n      <th>2</th>\n      <td>6</td>\n      <td>[920308, 926804, 946489, 1006718, 1017061, 107...</td>\n      <td>[2005109, 15800994, 1124884, 1058046, 1077377]</td>\n      <td>[7441191, 1029421, 919294, 950272, 5589845]</td>\n      <td>[6534178, 6533889, 1029743, 6534166, 1082185]</td>\n      <td>[999999, 1082185, 981760, 1127831, 995242]</td>\n      <td>[1082185, 999999, 981760, 1127831, 1098066]</td>\n      <td>[1082185, 981760, 1127831, 999999, 878996]</td>\n      <td>[999999, 1082185, 1029743, 6534178, 1127831]</td>\n    </tr>\n  </tbody>\n</table>\n</div>"
     },
     "metadata": {},
     "execution_count": 15
    }
   ],
   "source": [
    "result.head(3)"
   ]
  },
  {
   "cell_type": "code",
   "execution_count": 16,
   "metadata": {
    "colab": {},
    "colab_type": "code",
    "id": "_0cu0VeTC8ZD"
   },
   "outputs": [],
   "source": [
    "from metrics import precision_at_k, precision"
   ]
  },
  {
   "source": [
    "считаем"
   ],
   "cell_type": "markdown",
   "metadata": {}
  },
  {
   "cell_type": "code",
   "execution_count": 17,
   "metadata": {},
   "outputs": [
    {
     "output_type": "stream",
     "name": "stderr",
     "text": [
      "z:\\Projects\\python\\2021.03.20_Recommedation_systems\\lesson2_dz\\metrics.py:43: RuntimeWarning: invalid value encountered in long_scalars\n  precision = flags.sum() / recommended_list.size\n"
     ]
    },
    {
     "output_type": "execute_result",
     "data": {
      "text/plain": [
       "                        Algoritms  Precision@5  Precision@5 top5000\n",
       "0           random_recommendation     0.000686             0.000588\n",
       "1  weighted_random_recommendation     0.000979             0.001763\n",
       "2          popular_recommendation     0.155240             0.155240\n",
       "3                        itemitem     0.136925             0.155326\n",
       "4                          cosine     0.132909             0.154639\n",
       "5                           tfidf     0.138981             0.158665\n",
       "6                   own_purchases     0.179693             0.219858"
      ],
      "text/html": "<div>\n<style scoped>\n    .dataframe tbody tr th:only-of-type {\n        vertical-align: middle;\n    }\n\n    .dataframe tbody tr th {\n        vertical-align: top;\n    }\n\n    .dataframe thead th {\n        text-align: right;\n    }\n</style>\n<table border=\"1\" class=\"dataframe\">\n  <thead>\n    <tr style=\"text-align: right;\">\n      <th></th>\n      <th>Algoritms</th>\n      <th>Precision@5</th>\n      <th>Precision@5 top5000</th>\n    </tr>\n  </thead>\n  <tbody>\n    <tr>\n      <th>0</th>\n      <td>random_recommendation</td>\n      <td>0.000686</td>\n      <td>0.000588</td>\n    </tr>\n    <tr>\n      <th>1</th>\n      <td>weighted_random_recommendation</td>\n      <td>0.000979</td>\n      <td>0.001763</td>\n    </tr>\n    <tr>\n      <th>2</th>\n      <td>popular_recommendation</td>\n      <td>0.155240</td>\n      <td>0.155240</td>\n    </tr>\n    <tr>\n      <th>3</th>\n      <td>itemitem</td>\n      <td>0.136925</td>\n      <td>0.155326</td>\n    </tr>\n    <tr>\n      <th>4</th>\n      <td>cosine</td>\n      <td>0.132909</td>\n      <td>0.154639</td>\n    </tr>\n    <tr>\n      <th>5</th>\n      <td>tfidf</td>\n      <td>0.138981</td>\n      <td>0.158665</td>\n    </tr>\n    <tr>\n      <th>6</th>\n      <td>own_purchases</td>\n      <td>0.179693</td>\n      <td>0.219858</td>\n    </tr>\n  </tbody>\n</table>\n</div>"
     },
     "metadata": {},
     "execution_count": 17
    }
   ],
   "source": [
    "precisions, precisions_top5000 = [], []\n",
    "columns.remove('actual')\n",
    "for algoritm in columns:\n",
    "    precisions.append(result.apply(lambda row: precision_at_k(row[algoritm], row['actual'], k=5), axis=1).mean())\n",
    "    precisions_top5000.append(result_top5000.apply(lambda row: precision_at_k(row[algoritm], row['actual'], k=5), axis=1).mean())\n",
    "\n",
    "pd.DataFrame({'Algoritms': columns, 'Precision@5': precisions, 'Precision@5 top5000': precisions_top5000})"
   ]
  },
  {
   "source": [
    "В принципе видно, что Weighte_random_recommendation работает средне между random и popular весьма ожидаемо.\n",
    "\n",
    "Так же видно что результаты сильно лучше когда мы удаляем фиктивный товар 999999, он впринципе не наделен особым смыслом, в нашей задаче, он вспомогательный для того что бы убрать все что не из топ5000. и по сути в user_item_matrix все его значения равны 1, что сильно портит общую картину так как он становится товаром который все купили. Во многих моделях он и будет всем советоваться. Хотя просто его наличие в рекомендациях уже ошибка так как такого товара нету."
   ],
   "cell_type": "markdown",
   "metadata": {}
  },
  {
   "cell_type": "markdown",
   "metadata": {
    "colab_type": "text",
    "id": "igDU0j1cC8ZH"
   },
   "source": [
    "### Задание 3*. Улучшение бейзлайнов и ItemItem\n",
    "\n",
    "- Попробуйте улучшить бейзлайны, считая их на топ-5000 товаров(done)\n",
    "- Попробуйте улучшить разные варианты ItemItemRecommender, выбирая число соседей $K$.\n",
    "\n",
    "вторая часть в файле webinar_2.ipynb"
   ]
  },
  {
   "cell_type": "code",
   "execution_count": null,
   "metadata": {},
   "outputs": [],
   "source": []
  }
 ],
 "metadata": {
  "colab": {
   "name": "hw_webinar_2.ipynb",
   "provenance": []
  },
  "kernelspec": {
   "name": "python3",
   "display_name": "Python 3.8.5 64-bit",
   "metadata": {
    "interpreter": {
     "hash": "f7c604d00f38437f4df57123c10451e0676060e1a3eca5c56f25a4495d595057"
    }
   }
  },
  "language_info": {
   "codemirror_mode": {
    "name": "ipython",
    "version": 3
   },
   "file_extension": ".py",
   "mimetype": "text/x-python",
   "name": "python",
   "nbconvert_exporter": "python",
   "pygments_lexer": "ipython3",
   "version": "3.8.5"
  }
 },
 "nbformat": 4,
 "nbformat_minor": 1
}