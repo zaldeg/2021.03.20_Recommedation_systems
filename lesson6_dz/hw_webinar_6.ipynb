{
 "cells": [
  {
   "cell_type": "markdown",
   "metadata": {
    "id": "nMBdGcvjC4Ji"
   },
   "source": [
    "# Вебинар 6. Двухуровневые модели рекомендаций\n"
   ]
  },
  {
   "cell_type": "markdown",
   "metadata": {
    "id": "3Jgaacz0C4Jl"
   },
   "source": [
    "Код для src, utils, metrics вы можете скачать из [этого](https://github.com/geangohn/recsys-tutorial) github репозитория"
   ]
  },
  {
   "cell_type": "code",
   "execution_count": 1,
   "metadata": {
    "id": "5Aur99NsC4Jm",
    "outputId": "9b9a338b-a52f-4253-9694-ac431b62eefc"
   },
   "outputs": [],
   "source": [
    "import pandas as pd\n",
    "import numpy as np\n",
    "import matplotlib.pyplot as plt\n",
    "%matplotlib inline\n",
    "\n",
    "from tqdm.notebook import tqdm\n",
    "# Для работы с матрицами\n",
    "from scipy.sparse import csr_matrix\n",
    "\n",
    "# Матричная факторизация\n",
    "from implicit import als\n",
    "\n",
    "# Модель второго уровня\n",
    "from lightgbm import LGBMClassifier\n",
    "\n",
    "import os, sys\n",
    "module_path = os.path.abspath(os.path.join(os.pardir))\n",
    "if module_path not in sys.path:\n",
    "    sys.path.append(module_path)\n",
    "\n",
    "# Написанные нами функции\n",
    "from src.metrics import precision_at_k, recall_at_k\n",
    "from src.utils import prefilter_items\n",
    "from src.recommenders import MainRecommender"
   ]
  },
  {
   "cell_type": "code",
   "execution_count": 2,
   "metadata": {
    "id": "vso_erSdC4Jo",
    "outputId": "da20dbf1-3086-4fd6-ac92-f7653d7f9f71"
   },
   "outputs": [
    {
     "output_type": "execute_result",
     "data": {
      "text/plain": [
       "   user_id    basket_id  day  item_id  quantity  sales_value  store_id  \\\n",
       "0     2375  26984851472    1  1004906         1         1.39       364   \n",
       "1     2375  26984851472    1  1033142         1         0.82       364   \n",
       "\n",
       "   retail_disc  trans_time  week_no  coupon_disc  coupon_match_disc  \n",
       "0         -0.6        1631        1          0.0                0.0  \n",
       "1          0.0        1631        1          0.0                0.0  "
      ],
      "text/html": "<div>\n<style scoped>\n    .dataframe tbody tr th:only-of-type {\n        vertical-align: middle;\n    }\n\n    .dataframe tbody tr th {\n        vertical-align: top;\n    }\n\n    .dataframe thead th {\n        text-align: right;\n    }\n</style>\n<table border=\"1\" class=\"dataframe\">\n  <thead>\n    <tr style=\"text-align: right;\">\n      <th></th>\n      <th>user_id</th>\n      <th>basket_id</th>\n      <th>day</th>\n      <th>item_id</th>\n      <th>quantity</th>\n      <th>sales_value</th>\n      <th>store_id</th>\n      <th>retail_disc</th>\n      <th>trans_time</th>\n      <th>week_no</th>\n      <th>coupon_disc</th>\n      <th>coupon_match_disc</th>\n    </tr>\n  </thead>\n  <tbody>\n    <tr>\n      <th>0</th>\n      <td>2375</td>\n      <td>26984851472</td>\n      <td>1</td>\n      <td>1004906</td>\n      <td>1</td>\n      <td>1.39</td>\n      <td>364</td>\n      <td>-0.6</td>\n      <td>1631</td>\n      <td>1</td>\n      <td>0.0</td>\n      <td>0.0</td>\n    </tr>\n    <tr>\n      <th>1</th>\n      <td>2375</td>\n      <td>26984851472</td>\n      <td>1</td>\n      <td>1033142</td>\n      <td>1</td>\n      <td>0.82</td>\n      <td>364</td>\n      <td>0.0</td>\n      <td>1631</td>\n      <td>1</td>\n      <td>0.0</td>\n      <td>0.0</td>\n    </tr>\n  </tbody>\n</table>\n</div>"
     },
     "metadata": {},
     "execution_count": 2
    }
   ],
   "source": [
    "data = pd.read_csv('../data/retail_train.csv')\n",
    "item_features = pd.read_csv('../data/product.csv')\n",
    "user_features = pd.read_csv('../data/hh_demographic.csv')\n",
    "\n",
    "# column processing\n",
    "item_features.columns = [col.lower() for col in item_features.columns]\n",
    "user_features.columns = [col.lower() for col in user_features.columns]\n",
    "\n",
    "item_features.rename(columns={'product_id': 'item_id'}, inplace=True)\n",
    "user_features.rename(columns={'household_key': 'user_id'}, inplace=True)\n",
    "\n",
    "\n",
    "# Важна схема обучения и валидации!\n",
    "# -- давние покупки -- | -- 6 недель -- | -- 3 недель -- \n",
    "# подобрать размер 2-ого датасета (6 недель) --> learning curve (зависимость метрики recall@k от размера датасета)\n",
    "val_lvl_1_size_weeks = 6\n",
    "val_lvl_2_size_weeks = 3\n",
    "\n",
    "data_train_lvl_1 = data[data['week_no'] < data['week_no'].max() - (val_lvl_1_size_weeks + val_lvl_2_size_weeks)]\n",
    "data_val_lvl_1 = data[(data['week_no'] >= data['week_no'].max() - (val_lvl_1_size_weeks + val_lvl_2_size_weeks)) &\n",
    "                      (data['week_no'] < data['week_no'].max() - (val_lvl_2_size_weeks))]\n",
    "\n",
    "data_train_lvl_2 = data_val_lvl_1.copy()  # Для наглядности. Далее мы добавим изменения, и они будут отличаться\n",
    "data_val_lvl_2 = data[data['week_no'] >= data['week_no'].max() - val_lvl_2_size_weeks]\n",
    "\n",
    "data_train_lvl_1.head(2)"
   ]
  },
  {
   "source": [
    "# Ошибка в prefilter_items\n",
    "\n",
    "В работе функции prefilter_items ошибка связанная с 2-мя певыми пунктами.\n",
    "\n",
    "Уберем самые популярные товары (их и так купят)\n",
    "\n",
    "Уберем самые НЕ популярные товары (их и так НЕ купят)\n",
    "\n",
    "В процессе обьявления popularity мы делим все столбцы на количество юзеров. Соответственно дальше проверка по номеру юзера не может пройти, так как они все разделены на 2499. Так что пропускаются дальше все item_id. И если все сделать правильно(вроде я сделал), то сотается меньше 5000 товаров. так что я взял товары более популярные чем 0.002."
   ],
   "cell_type": "markdown",
   "metadata": {}
  },
  {
   "cell_type": "code",
   "execution_count": 3,
   "metadata": {},
   "outputs": [
    {
     "output_type": "execute_result",
     "data": {
      "text/plain": [
       "         user_id    basket_id  day  item_id  quantity  sales_value  store_id  \\\n",
       "2187037     1984  40865056205  613   843171         1          2.0       445   \n",
       "2187038     1984  40865056205  613   867188         2          2.0       445   \n",
       "2187039     1984  40865056205  613  1078023         1          2.0       445   \n",
       "2247777     1984  41125116269  628   995242         2          2.0       445   \n",
       "\n",
       "         retail_disc  trans_time  week_no  coupon_disc  coupon_match_disc  \n",
       "2187037        -0.49        1415       88          0.0                0.0  \n",
       "2187038        -1.58        1415       88          0.0                0.0  \n",
       "2187039        -0.49        1415       88          0.0                0.0  \n",
       "2247777        -1.78        1404       90          0.0                0.0  "
      ],
      "text/html": "<div>\n<style scoped>\n    .dataframe tbody tr th:only-of-type {\n        vertical-align: middle;\n    }\n\n    .dataframe tbody tr th {\n        vertical-align: top;\n    }\n\n    .dataframe thead th {\n        text-align: right;\n    }\n</style>\n<table border=\"1\" class=\"dataframe\">\n  <thead>\n    <tr style=\"text-align: right;\">\n      <th></th>\n      <th>user_id</th>\n      <th>basket_id</th>\n      <th>day</th>\n      <th>item_id</th>\n      <th>quantity</th>\n      <th>sales_value</th>\n      <th>store_id</th>\n      <th>retail_disc</th>\n      <th>trans_time</th>\n      <th>week_no</th>\n      <th>coupon_disc</th>\n      <th>coupon_match_disc</th>\n    </tr>\n  </thead>\n  <tbody>\n    <tr>\n      <th>2187037</th>\n      <td>1984</td>\n      <td>40865056205</td>\n      <td>613</td>\n      <td>843171</td>\n      <td>1</td>\n      <td>2.0</td>\n      <td>445</td>\n      <td>-0.49</td>\n      <td>1415</td>\n      <td>88</td>\n      <td>0.0</td>\n      <td>0.0</td>\n    </tr>\n    <tr>\n      <th>2187038</th>\n      <td>1984</td>\n      <td>40865056205</td>\n      <td>613</td>\n      <td>867188</td>\n      <td>2</td>\n      <td>2.0</td>\n      <td>445</td>\n      <td>-1.58</td>\n      <td>1415</td>\n      <td>88</td>\n      <td>0.0</td>\n      <td>0.0</td>\n    </tr>\n    <tr>\n      <th>2187039</th>\n      <td>1984</td>\n      <td>40865056205</td>\n      <td>613</td>\n      <td>1078023</td>\n      <td>1</td>\n      <td>2.0</td>\n      <td>445</td>\n      <td>-0.49</td>\n      <td>1415</td>\n      <td>88</td>\n      <td>0.0</td>\n      <td>0.0</td>\n    </tr>\n    <tr>\n      <th>2247777</th>\n      <td>1984</td>\n      <td>41125116269</td>\n      <td>628</td>\n      <td>995242</td>\n      <td>2</td>\n      <td>2.0</td>\n      <td>445</td>\n      <td>-1.78</td>\n      <td>1404</td>\n      <td>90</td>\n      <td>0.0</td>\n      <td>0.0</td>\n    </tr>\n  </tbody>\n</table>\n</div>"
     },
     "metadata": {},
     "execution_count": 3
    }
   ],
   "source": [
    "data_val_lvl_1[data_val_lvl_1['user_id'] == 1984]"
   ]
  },
  {
   "cell_type": "code",
   "execution_count": 4,
   "metadata": {},
   "outputs": [
    {
     "output_type": "execute_result",
     "data": {
      "text/plain": [
       "(169711, 12)"
      ]
     },
     "metadata": {},
     "execution_count": 4
    }
   ],
   "source": [
    "data_val_lvl_1.shape"
   ]
  },
  {
   "cell_type": "code",
   "execution_count": 5,
   "metadata": {
    "id": "zcnV3l4XC4Jp",
    "outputId": "d58f889c-0671-4bb9-b2b6-2dc2e8c24fce"
   },
   "outputs": [
    {
     "output_type": "stream",
     "name": "stderr",
     "text": [
      "C:\\Users\\aleksey\\AppData\\Local\\Programs\\Python\\Python38\\lib\\site-packages\\pandas\\core\\indexing.py:1765: SettingWithCopyWarning: \n",
      "A value is trying to be set on a copy of a slice from a DataFrame.\n",
      "Try using .loc[row_indexer,col_indexer] = value instead\n",
      "\n",
      "See the caveats in the documentation: https://pandas.pydata.org/pandas-docs/stable/user_guide/indexing.html#returning-a-view-versus-a-copy\n",
      "  isetter(loc, value)\n",
      "Decreased # items from 83685 to 5001\n"
     ]
    }
   ],
   "source": [
    "n_items_before = data_train_lvl_1['item_id'].nunique()\n",
    "\n",
    "data_train_lvl_1 = prefilter_items(data_train_lvl_1, item_features=item_features, take_n_popular=5000)\n",
    "\n",
    "n_items_after = data_train_lvl_1['item_id'].nunique()\n",
    "print('Decreased # items from {} to {}'.format(n_items_before, n_items_after))"
   ]
  },
  {
   "cell_type": "code",
   "execution_count": 6,
   "metadata": {
    "colab": {
     "referenced_widgets": [
      "729d4287bb794971802d9da5e141f10a",
      "32375ef613474af6a0fcadb9255eb835"
     ]
    },
    "id": "zgYXRQ0lC4Jq",
    "outputId": "d9ea41ae-3b4d-41b4-fc46-90868ebb9894"
   },
   "outputs": [
    {
     "output_type": "stream",
     "name": "stderr",
     "text": [
      "WARNING:root:OpenBLAS detected. Its highly recommend to set the environment variable 'export OPENBLAS_NUM_THREADS=1' to disable its internal multithreading\n",
      "100%|██████████| 15/15 [00:06<00:00,  2.30it/s]\n",
      "100%|██████████| 5001/5001 [00:00<00:00, 23322.62it/s]\n"
     ]
    }
   ],
   "source": [
    "recommender = MainRecommender(data_train_lvl_1)"
   ]
  },
  {
   "cell_type": "code",
   "execution_count": 7,
   "metadata": {
    "id": "xB9JX5swC4Jr",
    "outputId": "af05502b-1fb9-42b6-919c-b915ac3a0106"
   },
   "outputs": [
    {
     "output_type": "execute_result",
     "data": {
      "text/plain": [
       "[999250, 863632, 888543, 961979, 932420]"
      ]
     },
     "metadata": {},
     "execution_count": 7
    }
   ],
   "source": [
    "recommender.get_als_recommendations(1000, N=5)"
   ]
  },
  {
   "cell_type": "code",
   "execution_count": 8,
   "metadata": {
    "id": "PNVa6jWLC4Jr",
    "outputId": "c69395e4-8171-41f1-c0c4-067b582f26e0"
   },
   "outputs": [
    {
     "output_type": "execute_result",
     "data": {
      "text/plain": [
       "[12427353, 881607, 863632, 1139418, 7167836]"
      ]
     },
     "metadata": {},
     "execution_count": 8
    }
   ],
   "source": [
    "recommender.get_own_recommendations(1000, N=5)"
   ]
  },
  {
   "cell_type": "code",
   "execution_count": 9,
   "metadata": {
    "id": "0NoB_lSJC4Js",
    "outputId": "9f91a42c-08bf-4037-fca1-54db5a5cafee"
   },
   "outputs": [
    {
     "output_type": "execute_result",
     "data": {
      "text/plain": [
       "[1076199, 1042616, 899229, 7431134, 1040346]"
      ]
     },
     "metadata": {},
     "execution_count": 9
    }
   ],
   "source": [
    "recommender.get_similar_items_recommendation(1000, N=5)"
   ]
  },
  {
   "cell_type": "code",
   "execution_count": 10,
   "metadata": {
    "id": "GdQO5CWKC4Js",
    "outputId": "08936fbf-715f-412a-9fbe-065816bb6a90"
   },
   "outputs": [
    {
     "output_type": "execute_result",
     "data": {
      "text/plain": [
       "[10285454, 923670, 935578, 894360, 979505]"
      ]
     },
     "metadata": {},
     "execution_count": 10
    }
   ],
   "source": [
    "recommender.get_similar_users_recommendation(1000, N=5)"
   ]
  },
  {
   "cell_type": "markdown",
   "metadata": {
    "id": "Bqs9Sw_YC4Jt"
   },
   "source": [
    "### Задание 1\n",
    "\n",
    "A) Попробуйте различные варианты генерации кандидатов. Какие из них дают наибольший recall@k ?\n",
    "- Пока пробуем отобрать 50 кандидатов (k=50)\n",
    "- Качество измеряем на data_val_lvl_1: следующие 6 недель после трейна\n",
    "\n",
    "Дают ли own recommendtions + top-popular лучший recall? \n"
   ]
  },
  {
   "cell_type": "code",
   "execution_count": 11,
   "metadata": {
    "id": "frt2RzDWC4Jt",
    "outputId": "7c594abf-4a34-406b-9897-8bfbddf69a93"
   },
   "outputs": [
    {
     "output_type": "execute_result",
     "data": {
      "text/plain": [
       "   user_id                                             actual\n",
       "0        1  [853529, 865456, 867607, 872137, 874905, 87524...\n",
       "1        2  [15830248, 838136, 839656, 861272, 866211, 870..."
      ],
      "text/html": "<div>\n<style scoped>\n    .dataframe tbody tr th:only-of-type {\n        vertical-align: middle;\n    }\n\n    .dataframe tbody tr th {\n        vertical-align: top;\n    }\n\n    .dataframe thead th {\n        text-align: right;\n    }\n</style>\n<table border=\"1\" class=\"dataframe\">\n  <thead>\n    <tr style=\"text-align: right;\">\n      <th></th>\n      <th>user_id</th>\n      <th>actual</th>\n    </tr>\n  </thead>\n  <tbody>\n    <tr>\n      <th>0</th>\n      <td>1</td>\n      <td>[853529, 865456, 867607, 872137, 874905, 87524...</td>\n    </tr>\n    <tr>\n      <th>1</th>\n      <td>2</td>\n      <td>[15830248, 838136, 839656, 861272, 866211, 870...</td>\n    </tr>\n  </tbody>\n</table>\n</div>"
     },
     "metadata": {},
     "execution_count": 11
    }
   ],
   "source": [
    "result_lvl_1 = data_val_lvl_1.groupby('user_id')['item_id'].unique().reset_index()\n",
    "result_lvl_1.columns=['user_id', 'actual']\n",
    "result_lvl_1.head(2)"
   ]
  },
  {
   "cell_type": "code",
   "execution_count": 12,
   "metadata": {},
   "outputs": [
    {
     "output_type": "execute_result",
     "data": {
      "text/plain": [
       "      user_id                             actual\n",
       "1715     1984  [843171, 867188, 1078023, 995242]"
      ],
      "text/html": "<div>\n<style scoped>\n    .dataframe tbody tr th:only-of-type {\n        vertical-align: middle;\n    }\n\n    .dataframe tbody tr th {\n        vertical-align: top;\n    }\n\n    .dataframe thead th {\n        text-align: right;\n    }\n</style>\n<table border=\"1\" class=\"dataframe\">\n  <thead>\n    <tr style=\"text-align: right;\">\n      <th></th>\n      <th>user_id</th>\n      <th>actual</th>\n    </tr>\n  </thead>\n  <tbody>\n    <tr>\n      <th>1715</th>\n      <td>1984</td>\n      <td>[843171, 867188, 1078023, 995242]</td>\n    </tr>\n  </tbody>\n</table>\n</div>"
     },
     "metadata": {},
     "execution_count": 12
    }
   ],
   "source": [
    "result_lvl_1[result_lvl_1['user_id'] == 1984] "
   ]
  },
  {
   "cell_type": "code",
   "execution_count": 13,
   "metadata": {},
   "outputs": [
    {
     "output_type": "execute_result",
     "data": {
      "text/plain": [
       "Empty DataFrame\n",
       "Columns: [user_id, basket_id, day, item_id, quantity, sales_value, store_id, retail_disc, trans_time, week_no, coupon_disc, coupon_match_disc, price]\n",
       "Index: []"
      ],
      "text/html": "<div>\n<style scoped>\n    .dataframe tbody tr th:only-of-type {\n        vertical-align: middle;\n    }\n\n    .dataframe tbody tr th {\n        vertical-align: top;\n    }\n\n    .dataframe thead th {\n        text-align: right;\n    }\n</style>\n<table border=\"1\" class=\"dataframe\">\n  <thead>\n    <tr style=\"text-align: right;\">\n      <th></th>\n      <th>user_id</th>\n      <th>basket_id</th>\n      <th>day</th>\n      <th>item_id</th>\n      <th>quantity</th>\n      <th>sales_value</th>\n      <th>store_id</th>\n      <th>retail_disc</th>\n      <th>trans_time</th>\n      <th>week_no</th>\n      <th>coupon_disc</th>\n      <th>coupon_match_disc</th>\n      <th>price</th>\n    </tr>\n  </thead>\n  <tbody>\n  </tbody>\n</table>\n</div>"
     },
     "metadata": {},
     "execution_count": 13
    }
   ],
   "source": [
    "data_train_lvl_1[data_train_lvl_1['user_id'] == 1984] "
   ]
  },
  {
   "cell_type": "code",
   "execution_count": 14,
   "metadata": {
    "id": "xM5W4mU4C4Jt"
   },
   "outputs": [],
   "source": [
    "methods = [\n",
    "    recommender.get_similar_users_recommendation,\n",
    "    recommender.get_similar_items_recommendation,\n",
    "    recommender.get_own_recommendations,\n",
    "    recommender.get_als_recommendations\n",
    "    ]"
   ]
  },
  {
   "source": [
    "# ошибки в recomendere\n",
    "d  _get_recommendations и get_similar_users_recommendation пришлось добавить защиту от юзерво которых небыло, им разается топ популярных. иначе 1984 юзер крашит recommender. его нету в обучающей выборке data_train_lvl_1 но он есть в data_val_lvl_1."
   ],
   "cell_type": "markdown",
   "metadata": {}
  },
  {
   "cell_type": "code",
   "execution_count": 15,
   "metadata": {},
   "outputs": [
    {
     "output_type": "display_data",
     "data": {
      "text/plain": "HBox(children=(HTML(value=''), FloatProgress(value=0.0, max=4.0), HTML(value='')))",
      "application/vnd.jupyter.widget-view+json": {
       "version_major": 2,
       "version_minor": 0,
       "model_id": "d8a31cce60d54cb3a000b8dc20c6a821"
      }
     },
     "metadata": {}
    },
    {
     "output_type": "stream",
     "name": "stdout",
     "text": [
      "get_similar_users_recommendation\n",
      "get_similar_items_recommendation\n",
      "get_own_recommendations\n",
      "get_als_recommendations\n",
      "\n"
     ]
    }
   ],
   "source": [
    "for method in tqdm(methods):\n",
    "    print(method.__name__)\n",
    "    result_lvl_1[method.__name__] = result_lvl_1['user_id'].apply(lambda x: method(x, N=50))"
   ]
  },
  {
   "cell_type": "code",
   "execution_count": 16,
   "metadata": {},
   "outputs": [
    {
     "output_type": "execute_result",
     "data": {
      "text/plain": [
       "   user_id                                             actual  \\\n",
       "0        1  [853529, 865456, 867607, 872137, 874905, 87524...   \n",
       "1        2  [15830248, 838136, 839656, 861272, 866211, 870...   \n",
       "\n",
       "                    get_similar_users_recommendation  \\\n",
       "0  [997987, 1023196, 832678, 6552318, 1092937, 91...   \n",
       "1  [879504, 965772, 7160764, 8090956, 9881593, 69...   \n",
       "\n",
       "                    get_similar_items_recommendation  \\\n",
       "0  [921763, 1007512, 994223, 5577022, 5567876, 10...   \n",
       "1  [880888, 819978, 1007512, 10344714, 860703, 97...   \n",
       "\n",
       "                             get_own_recommendations  \\\n",
       "0  [856942, 9297615, 5577022, 9655212, 1124029, 1...   \n",
       "1  [911974, 1076580, 1103898, 5567582, 1007414, 1...   \n",
       "\n",
       "                             get_als_recommendations  \n",
       "0  [885290, 1037332, 1062572, 1097909, 916993, 83...  \n",
       "1  [9677366, 1021324, 875392, 950206, 945998, 889...  "
      ],
      "text/html": "<div>\n<style scoped>\n    .dataframe tbody tr th:only-of-type {\n        vertical-align: middle;\n    }\n\n    .dataframe tbody tr th {\n        vertical-align: top;\n    }\n\n    .dataframe thead th {\n        text-align: right;\n    }\n</style>\n<table border=\"1\" class=\"dataframe\">\n  <thead>\n    <tr style=\"text-align: right;\">\n      <th></th>\n      <th>user_id</th>\n      <th>actual</th>\n      <th>get_similar_users_recommendation</th>\n      <th>get_similar_items_recommendation</th>\n      <th>get_own_recommendations</th>\n      <th>get_als_recommendations</th>\n    </tr>\n  </thead>\n  <tbody>\n    <tr>\n      <th>0</th>\n      <td>1</td>\n      <td>[853529, 865456, 867607, 872137, 874905, 87524...</td>\n      <td>[997987, 1023196, 832678, 6552318, 1092937, 91...</td>\n      <td>[921763, 1007512, 994223, 5577022, 5567876, 10...</td>\n      <td>[856942, 9297615, 5577022, 9655212, 1124029, 1...</td>\n      <td>[885290, 1037332, 1062572, 1097909, 916993, 83...</td>\n    </tr>\n    <tr>\n      <th>1</th>\n      <td>2</td>\n      <td>[15830248, 838136, 839656, 861272, 866211, 870...</td>\n      <td>[879504, 965772, 7160764, 8090956, 9881593, 69...</td>\n      <td>[880888, 819978, 1007512, 10344714, 860703, 97...</td>\n      <td>[911974, 1076580, 1103898, 5567582, 1007414, 1...</td>\n      <td>[9677366, 1021324, 875392, 950206, 945998, 889...</td>\n    </tr>\n  </tbody>\n</table>\n</div>"
     },
     "metadata": {},
     "execution_count": 16
    }
   ],
   "source": [
    "result_lvl_1.head(2)"
   ]
  },
  {
   "cell_type": "code",
   "execution_count": 17,
   "metadata": {},
   "outputs": [
    {
     "output_type": "execute_result",
     "data": {
      "text/plain": [
       "                          Algoritms  Recall@5  Recall@50\n",
       "0  get_similar_users_recommendation  0.001272   0.008264\n",
       "1  get_similar_items_recommendation  0.005570   0.024042\n",
       "2           get_own_recommendations  0.021254   0.067177\n",
       "3           get_als_recommendations  0.007845   0.036438"
      ],
      "text/html": "<div>\n<style scoped>\n    .dataframe tbody tr th:only-of-type {\n        vertical-align: middle;\n    }\n\n    .dataframe tbody tr th {\n        vertical-align: top;\n    }\n\n    .dataframe thead th {\n        text-align: right;\n    }\n</style>\n<table border=\"1\" class=\"dataframe\">\n  <thead>\n    <tr style=\"text-align: right;\">\n      <th></th>\n      <th>Algoritms</th>\n      <th>Recall@5</th>\n      <th>Recall@50</th>\n    </tr>\n  </thead>\n  <tbody>\n    <tr>\n      <th>0</th>\n      <td>get_similar_users_recommendation</td>\n      <td>0.001272</td>\n      <td>0.008264</td>\n    </tr>\n    <tr>\n      <th>1</th>\n      <td>get_similar_items_recommendation</td>\n      <td>0.005570</td>\n      <td>0.024042</td>\n    </tr>\n    <tr>\n      <th>2</th>\n      <td>get_own_recommendations</td>\n      <td>0.021254</td>\n      <td>0.067177</td>\n    </tr>\n    <tr>\n      <th>3</th>\n      <td>get_als_recommendations</td>\n      <td>0.007845</td>\n      <td>0.036438</td>\n    </tr>\n  </tbody>\n</table>\n</div>"
     },
     "metadata": {},
     "execution_count": 17
    }
   ],
   "source": [
    "columns = ['get_similar_users_recommendation', 'get_similar_items_recommendation', 'get_own_recommendations', 'get_als_recommendations']\n",
    "recall_at_5, recall_at_50 =  [] , []\n",
    "for algoritm in columns:\n",
    "    recall_at_5.append(result_lvl_1.apply(lambda row: recall_at_k(row[algoritm], row['actual'], k=5), axis=1).mean())\n",
    "    recall_at_50.append(result_lvl_1.apply(lambda row: recall_at_k(row[algoritm], row['actual'], k=50), axis=1).mean())\n",
    "\n",
    "pd.DataFrame({'Algoritms': columns, 'Recall@5': recall_at_5,'Recall@50': recall_at_50})"
   ]
  },
  {
   "source": [
    "get_own_recomendations дают наилучший результат."
   ],
   "cell_type": "markdown",
   "metadata": {}
  },
  {
   "source": [
    "B)* Как зависит recall@k от k? Постройте для одной схемы генерации кандидатов эту зависимость для k = {20, 50, 100, 200, 500}  \n",
    "C)* Исходя из прошлого вопроса, как вы думаете, какое значение k является наиболее разумным?"
   ],
   "cell_type": "markdown",
   "metadata": {}
  },
  {
   "cell_type": "code",
   "execution_count": 18,
   "metadata": {},
   "outputs": [
    {
     "output_type": "execute_result",
     "data": {
      "text/plain": [
       "   user_id                                             actual\n",
       "0        1  [853529, 865456, 867607, 872137, 874905, 87524...\n",
       "1        2  [15830248, 838136, 839656, 861272, 866211, 870..."
      ],
      "text/html": "<div>\n<style scoped>\n    .dataframe tbody tr th:only-of-type {\n        vertical-align: middle;\n    }\n\n    .dataframe tbody tr th {\n        vertical-align: top;\n    }\n\n    .dataframe thead th {\n        text-align: right;\n    }\n</style>\n<table border=\"1\" class=\"dataframe\">\n  <thead>\n    <tr style=\"text-align: right;\">\n      <th></th>\n      <th>user_id</th>\n      <th>actual</th>\n    </tr>\n  </thead>\n  <tbody>\n    <tr>\n      <th>0</th>\n      <td>1</td>\n      <td>[853529, 865456, 867607, 872137, 874905, 87524...</td>\n    </tr>\n    <tr>\n      <th>1</th>\n      <td>2</td>\n      <td>[15830248, 838136, 839656, 861272, 866211, 870...</td>\n    </tr>\n  </tbody>\n</table>\n</div>"
     },
     "metadata": {},
     "execution_count": 18
    }
   ],
   "source": [
    "result_lvl_1_2 = data_val_lvl_1.groupby('user_id')['item_id'].unique().reset_index()\n",
    "result_lvl_1_2.columns=['user_id', 'actual']\n",
    "result_lvl_1_2.head(2)"
   ]
  },
  {
   "cell_type": "code",
   "execution_count": 19,
   "metadata": {},
   "outputs": [
    {
     "output_type": "display_data",
     "data": {
      "text/plain": "HBox(children=(HTML(value=''), FloatProgress(value=0.0, max=5.0), HTML(value='')))",
      "application/vnd.jupyter.widget-view+json": {
       "version_major": 2,
       "version_minor": 0,
       "model_id": "d9caddc062a445ce829bbfad63c1056c"
      }
     },
     "metadata": {}
    },
    {
     "output_type": "stream",
     "name": "stdout",
     "text": [
      "\n",
      "\n",
      "\n",
      "\n",
      "\n",
      "\n"
     ]
    }
   ],
   "source": [
    "N = [20, 50, 100, 200, 500]\n",
    "for n in tqdm(N):\n",
    "    print()\n",
    "    result_lvl_1_2[n] = result_lvl_1_2['user_id'].apply(lambda x: recommender.get_own_recommendations(x, N=n))"
   ]
  },
  {
   "cell_type": "code",
   "execution_count": 20,
   "metadata": {},
   "outputs": [
    {
     "output_type": "execute_result",
     "data": {
      "text/plain": [
       "   user_id                                             actual  \\\n",
       "0        1  [853529, 865456, 867607, 872137, 874905, 87524...   \n",
       "1        2  [15830248, 838136, 839656, 861272, 866211, 870...   \n",
       "\n",
       "                                                  20  \\\n",
       "0  [856942, 9297615, 5577022, 9655212, 1124029, 1...   \n",
       "1  [911974, 1076580, 1103898, 5567582, 1007414, 1...   \n",
       "\n",
       "                                                  50  \\\n",
       "0  [856942, 9297615, 5577022, 9655212, 1124029, 1...   \n",
       "1  [911974, 1076580, 1103898, 5567582, 1007414, 1...   \n",
       "\n",
       "                                                 100  \\\n",
       "0  [856942, 9297615, 5577022, 9655212, 1124029, 1...   \n",
       "1  [911974, 1076580, 1103898, 5567582, 1007414, 1...   \n",
       "\n",
       "                                                 200  \\\n",
       "0  [856942, 9297615, 5577022, 9655212, 1124029, 1...   \n",
       "1  [911974, 1076580, 1103898, 5567582, 1007414, 1...   \n",
       "\n",
       "                                                 500  \n",
       "0  [856942, 9297615, 5577022, 9655212, 1124029, 1...  \n",
       "1  [911974, 1076580, 1103898, 5567582, 1007414, 1...  "
      ],
      "text/html": "<div>\n<style scoped>\n    .dataframe tbody tr th:only-of-type {\n        vertical-align: middle;\n    }\n\n    .dataframe tbody tr th {\n        vertical-align: top;\n    }\n\n    .dataframe thead th {\n        text-align: right;\n    }\n</style>\n<table border=\"1\" class=\"dataframe\">\n  <thead>\n    <tr style=\"text-align: right;\">\n      <th></th>\n      <th>user_id</th>\n      <th>actual</th>\n      <th>20</th>\n      <th>50</th>\n      <th>100</th>\n      <th>200</th>\n      <th>500</th>\n    </tr>\n  </thead>\n  <tbody>\n    <tr>\n      <th>0</th>\n      <td>1</td>\n      <td>[853529, 865456, 867607, 872137, 874905, 87524...</td>\n      <td>[856942, 9297615, 5577022, 9655212, 1124029, 1...</td>\n      <td>[856942, 9297615, 5577022, 9655212, 1124029, 1...</td>\n      <td>[856942, 9297615, 5577022, 9655212, 1124029, 1...</td>\n      <td>[856942, 9297615, 5577022, 9655212, 1124029, 1...</td>\n      <td>[856942, 9297615, 5577022, 9655212, 1124029, 1...</td>\n    </tr>\n    <tr>\n      <th>1</th>\n      <td>2</td>\n      <td>[15830248, 838136, 839656, 861272, 866211, 870...</td>\n      <td>[911974, 1076580, 1103898, 5567582, 1007414, 1...</td>\n      <td>[911974, 1076580, 1103898, 5567582, 1007414, 1...</td>\n      <td>[911974, 1076580, 1103898, 5567582, 1007414, 1...</td>\n      <td>[911974, 1076580, 1103898, 5567582, 1007414, 1...</td>\n      <td>[911974, 1076580, 1103898, 5567582, 1007414, 1...</td>\n    </tr>\n  </tbody>\n</table>\n</div>"
     },
     "metadata": {},
     "execution_count": 20
    }
   ],
   "source": [
    "result_lvl_1_2.head(2)"
   ]
  },
  {
   "cell_type": "code",
   "execution_count": 21,
   "metadata": {},
   "outputs": [
    {
     "output_type": "execute_result",
     "data": {
      "text/plain": [
       "     N  Recall@N\n",
       "0   20  0.044035\n",
       "1   50  0.067177\n",
       "2  100  0.090297\n",
       "3  200  0.112957\n",
       "4  500  0.142392"
      ],
      "text/html": "<div>\n<style scoped>\n    .dataframe tbody tr th:only-of-type {\n        vertical-align: middle;\n    }\n\n    .dataframe tbody tr th {\n        vertical-align: top;\n    }\n\n    .dataframe thead th {\n        text-align: right;\n    }\n</style>\n<table border=\"1\" class=\"dataframe\">\n  <thead>\n    <tr style=\"text-align: right;\">\n      <th></th>\n      <th>N</th>\n      <th>Recall@N</th>\n    </tr>\n  </thead>\n  <tbody>\n    <tr>\n      <th>0</th>\n      <td>20</td>\n      <td>0.044035</td>\n    </tr>\n    <tr>\n      <th>1</th>\n      <td>50</td>\n      <td>0.067177</td>\n    </tr>\n    <tr>\n      <th>2</th>\n      <td>100</td>\n      <td>0.090297</td>\n    </tr>\n    <tr>\n      <th>3</th>\n      <td>200</td>\n      <td>0.112957</td>\n    </tr>\n    <tr>\n      <th>4</th>\n      <td>500</td>\n      <td>0.142392</td>\n    </tr>\n  </tbody>\n</table>\n</div>"
     },
     "metadata": {},
     "execution_count": 21
    }
   ],
   "source": [
    "recall_2_at_5 = []\n",
    "for n in N:\n",
    "    recall_2_at_5.append(result_lvl_1_2.apply(lambda row: recall_at_k(row[n], row['actual'], k=n), axis=1).mean())\n",
    "\n",
    "pd.DataFrame({'N': N, 'Recall@N': recall_2_at_5})"
   ]
  },
  {
   "source": [
    "Recall возвращает процент купленых среди нами предположеных товаров. Соотвественно, чем больше К тем больше recall. В связи с этим, будет разумно выбирать K такого же размера как и формируемая нами рекомендация, если дальше мы не идем на второй круг рекомендаций. Если мы идем на второй лвл для ранжирования, тогда К нужно брать размером с переходящую выборку. Что бы в ней содержалось как можно больше правильных кандидатов."
   ],
   "cell_type": "markdown",
   "metadata": {}
  },
  {
   "cell_type": "markdown",
   "metadata": {
    "id": "bAHJu3Z5C4Ju"
   },
   "source": [
    "### Задание 2.\n",
    "\n",
    "Обучите модель 2-ого уровня, при этом:\n",
    "    - Добавьте минимум по 2 фичи для юзера, товара и пары юзер-товар\n",
    "    - Измерьте отдельно precision@5 модели 1-ого уровня и двухуровневой модели на data_val_lvl_2\n",
    "    - Вырос ли precision@5 при использовании двухуровневой модели?"
   ]
  },
  {
   "cell_type": "code",
   "execution_count": 523,
   "metadata": {
    "id": "XZQcrch7C4Ju"
   },
   "outputs": [],
   "source": [
    "users_lvl_2 = pd.DataFrame(data_train_lvl_2['user_id'].unique())\n",
    "users_lvl_2.columns = ['user_id']\n",
    "\n",
    "# Пока только warm start\n",
    "train_users = data_train_lvl_1['user_id'].unique()\n",
    "users_lvl_2 = users_lvl_2[users_lvl_2['user_id'].isin(train_users)]\n",
    "\n",
    "users_lvl_2['candidates'] = users_lvl_2['user_id'].apply(lambda x: recommender.get_own_recommendations(x, N=50))\n",
    "own_recomend = users_lvl_2.copy()"
   ]
  },
  {
   "source": [
    "users_lvl_2"
   ],
   "cell_type": "code",
   "metadata": {},
   "execution_count": 524,
   "outputs": [
    {
     "output_type": "execute_result",
     "data": {
      "text/plain": [
       "      user_id                                         candidates\n",
       "0        2070  [1105426, 1092937, 917033, 950202, 944588, 879...\n",
       "1        2021  [950935, 1119454, 835578, 863762, 1013928, 653...\n",
       "2        1753  [967041, 963686, 9553382, 883186, 942166, 9359...\n",
       "3        2120  [1126899, 1070820, 5569471, 1075368, 5585510, ...\n",
       "4        1346  [5569309, 5574377, 1135983, 1129982, 5569993, ...\n",
       "...       ...                                                ...\n",
       "2149     1446  [6391134, 827332, 12487356, 13007435, 981677, ...\n",
       "2150     1784  [917406, 849578, 886395, 956127, 950935, 10745...\n",
       "2151      436  [934399, 953180, 915459, 1092363, 918046, 8787...\n",
       "2152     1697  [993838, 922847, 886103, 1016800, 5568489, 131...\n",
       "2153     1745  [902377, 988697, 1109778, 7166861, 999779, 936...\n",
       "\n",
       "[2153 rows x 2 columns]"
      ],
      "text/html": "<div>\n<style scoped>\n    .dataframe tbody tr th:only-of-type {\n        vertical-align: middle;\n    }\n\n    .dataframe tbody tr th {\n        vertical-align: top;\n    }\n\n    .dataframe thead th {\n        text-align: right;\n    }\n</style>\n<table border=\"1\" class=\"dataframe\">\n  <thead>\n    <tr style=\"text-align: right;\">\n      <th></th>\n      <th>user_id</th>\n      <th>candidates</th>\n    </tr>\n  </thead>\n  <tbody>\n    <tr>\n      <th>0</th>\n      <td>2070</td>\n      <td>[1105426, 1092937, 917033, 950202, 944588, 879...</td>\n    </tr>\n    <tr>\n      <th>1</th>\n      <td>2021</td>\n      <td>[950935, 1119454, 835578, 863762, 1013928, 653...</td>\n    </tr>\n    <tr>\n      <th>2</th>\n      <td>1753</td>\n      <td>[967041, 963686, 9553382, 883186, 942166, 9359...</td>\n    </tr>\n    <tr>\n      <th>3</th>\n      <td>2120</td>\n      <td>[1126899, 1070820, 5569471, 1075368, 5585510, ...</td>\n    </tr>\n    <tr>\n      <th>4</th>\n      <td>1346</td>\n      <td>[5569309, 5574377, 1135983, 1129982, 5569993, ...</td>\n    </tr>\n    <tr>\n      <th>...</th>\n      <td>...</td>\n      <td>...</td>\n    </tr>\n    <tr>\n      <th>2149</th>\n      <td>1446</td>\n      <td>[6391134, 827332, 12487356, 13007435, 981677, ...</td>\n    </tr>\n    <tr>\n      <th>2150</th>\n      <td>1784</td>\n      <td>[917406, 849578, 886395, 956127, 950935, 10745...</td>\n    </tr>\n    <tr>\n      <th>2151</th>\n      <td>436</td>\n      <td>[934399, 953180, 915459, 1092363, 918046, 8787...</td>\n    </tr>\n    <tr>\n      <th>2152</th>\n      <td>1697</td>\n      <td>[993838, 922847, 886103, 1016800, 5568489, 131...</td>\n    </tr>\n    <tr>\n      <th>2153</th>\n      <td>1745</td>\n      <td>[902377, 988697, 1109778, 7166861, 999779, 936...</td>\n    </tr>\n  </tbody>\n</table>\n<p>2153 rows × 2 columns</p>\n</div>"
     },
     "metadata": {},
     "execution_count": 524
    }
   ]
  },
  {
   "cell_type": "code",
   "execution_count": 525,
   "metadata": {},
   "outputs": [
    {
     "output_type": "execute_result",
     "data": {
      "text/plain": [
       "      user_id  item_id  flag\n",
       "0        2070  1105426     1\n",
       "0        2070  1092937     1\n",
       "0        2070   917033     1\n",
       "0        2070   950202     1\n",
       "0        2070   944588     1\n",
       "...       ...      ...   ...\n",
       "2153     1745  9419525     1\n",
       "2153     1745  1076769     1\n",
       "2153     1745  1023196     1\n",
       "2153     1745   968359     1\n",
       "2153     1745   899019     1\n",
       "\n",
       "[107650 rows x 3 columns]"
      ],
      "text/html": "<div>\n<style scoped>\n    .dataframe tbody tr th:only-of-type {\n        vertical-align: middle;\n    }\n\n    .dataframe tbody tr th {\n        vertical-align: top;\n    }\n\n    .dataframe thead th {\n        text-align: right;\n    }\n</style>\n<table border=\"1\" class=\"dataframe\">\n  <thead>\n    <tr style=\"text-align: right;\">\n      <th></th>\n      <th>user_id</th>\n      <th>item_id</th>\n      <th>flag</th>\n    </tr>\n  </thead>\n  <tbody>\n    <tr>\n      <th>0</th>\n      <td>2070</td>\n      <td>1105426</td>\n      <td>1</td>\n    </tr>\n    <tr>\n      <th>0</th>\n      <td>2070</td>\n      <td>1092937</td>\n      <td>1</td>\n    </tr>\n    <tr>\n      <th>0</th>\n      <td>2070</td>\n      <td>917033</td>\n      <td>1</td>\n    </tr>\n    <tr>\n      <th>0</th>\n      <td>2070</td>\n      <td>950202</td>\n      <td>1</td>\n    </tr>\n    <tr>\n      <th>0</th>\n      <td>2070</td>\n      <td>944588</td>\n      <td>1</td>\n    </tr>\n    <tr>\n      <th>...</th>\n      <td>...</td>\n      <td>...</td>\n      <td>...</td>\n    </tr>\n    <tr>\n      <th>2153</th>\n      <td>1745</td>\n      <td>9419525</td>\n      <td>1</td>\n    </tr>\n    <tr>\n      <th>2153</th>\n      <td>1745</td>\n      <td>1076769</td>\n      <td>1</td>\n    </tr>\n    <tr>\n      <th>2153</th>\n      <td>1745</td>\n      <td>1023196</td>\n      <td>1</td>\n    </tr>\n    <tr>\n      <th>2153</th>\n      <td>1745</td>\n      <td>968359</td>\n      <td>1</td>\n    </tr>\n    <tr>\n      <th>2153</th>\n      <td>1745</td>\n      <td>899019</td>\n      <td>1</td>\n    </tr>\n  </tbody>\n</table>\n<p>107650 rows × 3 columns</p>\n</div>"
     },
     "metadata": {},
     "execution_count": 525
    }
   ],
   "source": [
    "s = users_lvl_2.apply(lambda x: pd.Series(x['candidates']), axis=1).stack().reset_index(level=1, drop=True)\n",
    "s.name = 'item_id'\n",
    "\n",
    "users_lvl_2 = users_lvl_2.drop('candidates', axis=1).join(s)\n",
    "users_lvl_2['flag'] = 1\n",
    "\n",
    "users_lvl_2"
   ]
  },
  {
   "cell_type": "code",
   "execution_count": 526,
   "metadata": {},
   "outputs": [],
   "source": [
    "targets_lvl_2 = data_train_lvl_2[['user_id', 'item_id']].copy()\n",
    "targets_lvl_2['target'] = 1  # тут только покупки \n",
    "\n",
    "targets_lvl_2 = users_lvl_2.merge(targets_lvl_2, on=['user_id', 'item_id'], how='left')\n",
    "\n",
    "targets_lvl_2['target'].fillna(0, inplace= True)\n",
    "targets_lvl_2.drop('flag', axis=1, inplace=True)\n",
    "for_predict = targets_lvl_2.copy()"
   ]
  },
  {
   "cell_type": "code",
   "execution_count": 527,
   "metadata": {},
   "outputs": [
    {
     "output_type": "execute_result",
     "data": {
      "text/plain": [
       "        user_id  item_id  target\n",
       "0          2070  1105426     0.0\n",
       "1          2070  1092937     1.0\n",
       "2          2070  1092937     1.0\n",
       "3          2070   917033     0.0\n",
       "4          2070   950202     0.0\n",
       "...         ...      ...     ...\n",
       "112199     1745  9419525     0.0\n",
       "112200     1745  1076769     0.0\n",
       "112201     1745  1023196     0.0\n",
       "112202     1745   968359     0.0\n",
       "112203     1745   899019     0.0\n",
       "\n",
       "[112204 rows x 3 columns]"
      ],
      "text/html": "<div>\n<style scoped>\n    .dataframe tbody tr th:only-of-type {\n        vertical-align: middle;\n    }\n\n    .dataframe tbody tr th {\n        vertical-align: top;\n    }\n\n    .dataframe thead th {\n        text-align: right;\n    }\n</style>\n<table border=\"1\" class=\"dataframe\">\n  <thead>\n    <tr style=\"text-align: right;\">\n      <th></th>\n      <th>user_id</th>\n      <th>item_id</th>\n      <th>target</th>\n    </tr>\n  </thead>\n  <tbody>\n    <tr>\n      <th>0</th>\n      <td>2070</td>\n      <td>1105426</td>\n      <td>0.0</td>\n    </tr>\n    <tr>\n      <th>1</th>\n      <td>2070</td>\n      <td>1092937</td>\n      <td>1.0</td>\n    </tr>\n    <tr>\n      <th>2</th>\n      <td>2070</td>\n      <td>1092937</td>\n      <td>1.0</td>\n    </tr>\n    <tr>\n      <th>3</th>\n      <td>2070</td>\n      <td>917033</td>\n      <td>0.0</td>\n    </tr>\n    <tr>\n      <th>4</th>\n      <td>2070</td>\n      <td>950202</td>\n      <td>0.0</td>\n    </tr>\n    <tr>\n      <th>...</th>\n      <td>...</td>\n      <td>...</td>\n      <td>...</td>\n    </tr>\n    <tr>\n      <th>112199</th>\n      <td>1745</td>\n      <td>9419525</td>\n      <td>0.0</td>\n    </tr>\n    <tr>\n      <th>112200</th>\n      <td>1745</td>\n      <td>1076769</td>\n      <td>0.0</td>\n    </tr>\n    <tr>\n      <th>112201</th>\n      <td>1745</td>\n      <td>1023196</td>\n      <td>0.0</td>\n    </tr>\n    <tr>\n      <th>112202</th>\n      <td>1745</td>\n      <td>968359</td>\n      <td>0.0</td>\n    </tr>\n    <tr>\n      <th>112203</th>\n      <td>1745</td>\n      <td>899019</td>\n      <td>0.0</td>\n    </tr>\n  </tbody>\n</table>\n<p>112204 rows × 3 columns</p>\n</div>"
     },
     "metadata": {},
     "execution_count": 527
    }
   ],
   "source": [
    "targets_lvl_2"
   ]
  },
  {
   "cell_type": "code",
   "execution_count": 528,
   "metadata": {},
   "outputs": [
    {
     "output_type": "execute_result",
     "data": {
      "text/plain": [
       "   user_id  item_id  target  manufacturer  department     brand  \\\n",
       "0     2070  1105426     0.0            69        DELI   Private   \n",
       "1     2070  1092937     1.0          1089  MEAT-PCKGD  National   \n",
       "\n",
       "  commodity_desc   sub_commodity_desc curr_size_of_product age_desc  \\\n",
       "0     SANDWICHES  SANDWICHES - (COLD)                         45-54   \n",
       "1      LUNCHMEAT              BOLOGNA                 16OZ    45-54   \n",
       "\n",
       "  marital_status_code income_desc homeowner_desc hh_comp_desc  \\\n",
       "0                   U      50-74K        Unknown      Unknown   \n",
       "1                   U      50-74K        Unknown      Unknown   \n",
       "\n",
       "  household_size_desc kid_category_desc  \n",
       "0                   1      None/Unknown  \n",
       "1                   1      None/Unknown  "
      ],
      "text/html": "<div>\n<style scoped>\n    .dataframe tbody tr th:only-of-type {\n        vertical-align: middle;\n    }\n\n    .dataframe tbody tr th {\n        vertical-align: top;\n    }\n\n    .dataframe thead th {\n        text-align: right;\n    }\n</style>\n<table border=\"1\" class=\"dataframe\">\n  <thead>\n    <tr style=\"text-align: right;\">\n      <th></th>\n      <th>user_id</th>\n      <th>item_id</th>\n      <th>target</th>\n      <th>manufacturer</th>\n      <th>department</th>\n      <th>brand</th>\n      <th>commodity_desc</th>\n      <th>sub_commodity_desc</th>\n      <th>curr_size_of_product</th>\n      <th>age_desc</th>\n      <th>marital_status_code</th>\n      <th>income_desc</th>\n      <th>homeowner_desc</th>\n      <th>hh_comp_desc</th>\n      <th>household_size_desc</th>\n      <th>kid_category_desc</th>\n    </tr>\n  </thead>\n  <tbody>\n    <tr>\n      <th>0</th>\n      <td>2070</td>\n      <td>1105426</td>\n      <td>0.0</td>\n      <td>69</td>\n      <td>DELI</td>\n      <td>Private</td>\n      <td>SANDWICHES</td>\n      <td>SANDWICHES - (COLD)</td>\n      <td></td>\n      <td>45-54</td>\n      <td>U</td>\n      <td>50-74K</td>\n      <td>Unknown</td>\n      <td>Unknown</td>\n      <td>1</td>\n      <td>None/Unknown</td>\n    </tr>\n    <tr>\n      <th>1</th>\n      <td>2070</td>\n      <td>1092937</td>\n      <td>1.0</td>\n      <td>1089</td>\n      <td>MEAT-PCKGD</td>\n      <td>National</td>\n      <td>LUNCHMEAT</td>\n      <td>BOLOGNA</td>\n      <td>16OZ</td>\n      <td>45-54</td>\n      <td>U</td>\n      <td>50-74K</td>\n      <td>Unknown</td>\n      <td>Unknown</td>\n      <td>1</td>\n      <td>None/Unknown</td>\n    </tr>\n  </tbody>\n</table>\n</div>"
     },
     "metadata": {},
     "execution_count": 528
    }
   ],
   "source": [
    "targets_lvl_2 = targets_lvl_2.merge(item_features, on='item_id', how='left')\n",
    "targets_lvl_2 = targets_lvl_2.merge(user_features, on='user_id', how='left')\n",
    "\n",
    "targets_lvl_2.head(2)"
   ]
  },
  {
   "cell_type": "code",
   "execution_count": 529,
   "metadata": {},
   "outputs": [],
   "source": [
    "X_train = targets_lvl_2.drop('target', axis=1)\n",
    "y_train = targets_lvl_2[['target']]"
   ]
  },
  {
   "cell_type": "code",
   "execution_count": 530,
   "metadata": {},
   "outputs": [
    {
     "output_type": "execute_result",
     "data": {
      "text/plain": [
       "['manufacturer',\n",
       " 'department',\n",
       " 'brand',\n",
       " 'commodity_desc',\n",
       " 'sub_commodity_desc',\n",
       " 'curr_size_of_product',\n",
       " 'age_desc',\n",
       " 'marital_status_code',\n",
       " 'income_desc',\n",
       " 'homeowner_desc',\n",
       " 'hh_comp_desc',\n",
       " 'household_size_desc',\n",
       " 'kid_category_desc']"
      ]
     },
     "metadata": {},
     "execution_count": 530
    }
   ],
   "source": [
    "cat_feats = X_train.columns[2:].tolist()\n",
    "X_train[cat_feats] = X_train[cat_feats].astype('category')\n",
    "\n",
    "cat_feats"
   ]
  },
  {
   "cell_type": "code",
   "execution_count": 531,
   "metadata": {},
   "outputs": [
    {
     "output_type": "stream",
     "name": "stderr",
     "text": [
      "C:\\Users\\aleksey\\AppData\\Local\\Programs\\Python\\Python38\\lib\\site-packages\\sklearn\\utils\\validation.py:72: DataConversionWarning: A column-vector y was passed when a 1d array was expected. Please change the shape of y to (n_samples, ), for example using ravel().\n",
      "  return f(**kwargs)\n",
      "C:\\Users\\aleksey\\AppData\\Roaming\\Python\\Python38\\site-packages\\lightgbm\\basic.py:1098: UserWarning: categorical_column in param dict is overridden.\n",
      "  warnings.warn('{} in param dict is overridden.'.format(cat_alias))\n",
      "[LightGBM] [Warning] Accuracy may be bad since you didn't explicitly set num_leaves OR 2^max_depth > num_leaves. (num_leaves=31).\n"
     ]
    }
   ],
   "source": [
    "lgb = LGBMClassifier(objective='binary', max_depth=7, categorical_column=cat_feats)\n",
    "lgb.fit(X_train, y_train)\n",
    "\n",
    "train_preds = lgb.predict_proba(X_train)"
   ]
  },
  {
   "cell_type": "code",
   "execution_count": 532,
   "metadata": {},
   "outputs": [
    {
     "output_type": "execute_result",
     "data": {
      "text/plain": [
       "(112204, 2)"
      ]
     },
     "metadata": {},
     "execution_count": 532
    }
   ],
   "source": [
    "train_preds.shape"
   ]
  },
  {
   "cell_type": "code",
   "execution_count": 533,
   "metadata": {},
   "outputs": [
    {
     "output_type": "execute_result",
     "data": {
      "text/plain": [
       "array([0.42292141, 0.57707859])"
      ]
     },
     "metadata": {},
     "execution_count": 533
    }
   ],
   "source": [
    "train_preds[1]"
   ]
  },
  {
   "cell_type": "code",
   "execution_count": 534,
   "metadata": {},
   "outputs": [],
   "source": [
    "for_predict['predict_proba'] = train_preds[:,1]"
   ]
  },
  {
   "cell_type": "code",
   "execution_count": 535,
   "metadata": {},
   "outputs": [
    {
     "output_type": "execute_result",
     "data": {
      "text/plain": [
       "   user_id  item_id  target  predict_proba\n",
       "0     2070  1105426     0.0       0.083592\n",
       "1     2070  1092937     1.0       0.577079"
      ],
      "text/html": "<div>\n<style scoped>\n    .dataframe tbody tr th:only-of-type {\n        vertical-align: middle;\n    }\n\n    .dataframe tbody tr th {\n        vertical-align: top;\n    }\n\n    .dataframe thead th {\n        text-align: right;\n    }\n</style>\n<table border=\"1\" class=\"dataframe\">\n  <thead>\n    <tr style=\"text-align: right;\">\n      <th></th>\n      <th>user_id</th>\n      <th>item_id</th>\n      <th>target</th>\n      <th>predict_proba</th>\n    </tr>\n  </thead>\n  <tbody>\n    <tr>\n      <th>0</th>\n      <td>2070</td>\n      <td>1105426</td>\n      <td>0.0</td>\n      <td>0.083592</td>\n    </tr>\n    <tr>\n      <th>1</th>\n      <td>2070</td>\n      <td>1092937</td>\n      <td>1.0</td>\n      <td>0.577079</td>\n    </tr>\n  </tbody>\n</table>\n</div>"
     },
     "metadata": {},
     "execution_count": 535
    }
   ],
   "source": [
    "for_predict.head(2)"
   ]
  },
  {
   "cell_type": "code",
   "execution_count": 536,
   "metadata": {},
   "outputs": [],
   "source": [
    "def items_by_proba(data, user_id):\n",
    "    return data[data['user_id'] == user_id].sort_values(['predict_proba'], ascending=False).item_id.tolist()"
   ]
  },
  {
   "cell_type": "code",
   "execution_count": 537,
   "metadata": {},
   "outputs": [],
   "source": [
    "# result_lvl_2 = data_val_lvl_2.groupby('user_id')['item_id'].unique().reset_index()\n",
    "# result_lvl_2.columns=['user_id', 'actual']\n",
    "# result_lvl_2.head(2)"
   ]
  },
  {
   "cell_type": "code",
   "execution_count": 538,
   "metadata": {},
   "outputs": [
    {
     "output_type": "execute_result",
     "data": {
      "text/plain": [
       "   user_id                                             actual\n",
       "0        1  [853529, 865456, 867607, 872137, 874905, 87524...\n",
       "1        2  [15830248, 838136, 839656, 861272, 866211, 870..."
      ],
      "text/html": "<div>\n<style scoped>\n    .dataframe tbody tr th:only-of-type {\n        vertical-align: middle;\n    }\n\n    .dataframe tbody tr th {\n        vertical-align: top;\n    }\n\n    .dataframe thead th {\n        text-align: right;\n    }\n</style>\n<table border=\"1\" class=\"dataframe\">\n  <thead>\n    <tr style=\"text-align: right;\">\n      <th></th>\n      <th>user_id</th>\n      <th>actual</th>\n    </tr>\n  </thead>\n  <tbody>\n    <tr>\n      <th>0</th>\n      <td>1</td>\n      <td>[853529, 865456, 867607, 872137, 874905, 87524...</td>\n    </tr>\n    <tr>\n      <th>1</th>\n      <td>2</td>\n      <td>[15830248, 838136, 839656, 861272, 866211, 870...</td>\n    </tr>\n  </tbody>\n</table>\n</div>"
     },
     "metadata": {},
     "execution_count": 538
    }
   ],
   "source": [
    "result_lvl_2 = data_val_lvl_1.groupby('user_id')['item_id'].unique().reset_index()\n",
    "result_lvl_2.columns=['user_id', 'actual']\n",
    "result_lvl_2.head(2)"
   ]
  },
  {
   "cell_type": "code",
   "execution_count": 539,
   "metadata": {},
   "outputs": [],
   "source": [
    "result_lvl_2['proba_recomend'] = result_lvl_2['user_id'].apply(lambda x: items_by_proba(for_predict, x))\n"
   ]
  },
  {
   "cell_type": "code",
   "execution_count": 540,
   "metadata": {},
   "outputs": [
    {
     "output_type": "execute_result",
     "data": {
      "text/plain": [
       "   user_id                                             actual  \\\n",
       "0        1  [853529, 865456, 867607, 872137, 874905, 87524...   \n",
       "1        2  [15830248, 838136, 839656, 861272, 866211, 870...   \n",
       "\n",
       "                                      proba_recomend  \n",
       "0  [8293439, 8293439, 8293439, 9655212, 9655212, ...  \n",
       "1  [898847, 847241, 1110244, 862725, 9416729, 936...  "
      ],
      "text/html": "<div>\n<style scoped>\n    .dataframe tbody tr th:only-of-type {\n        vertical-align: middle;\n    }\n\n    .dataframe tbody tr th {\n        vertical-align: top;\n    }\n\n    .dataframe thead th {\n        text-align: right;\n    }\n</style>\n<table border=\"1\" class=\"dataframe\">\n  <thead>\n    <tr style=\"text-align: right;\">\n      <th></th>\n      <th>user_id</th>\n      <th>actual</th>\n      <th>proba_recomend</th>\n    </tr>\n  </thead>\n  <tbody>\n    <tr>\n      <th>0</th>\n      <td>1</td>\n      <td>[853529, 865456, 867607, 872137, 874905, 87524...</td>\n      <td>[8293439, 8293439, 8293439, 9655212, 9655212, ...</td>\n    </tr>\n    <tr>\n      <th>1</th>\n      <td>2</td>\n      <td>[15830248, 838136, 839656, 861272, 866211, 870...</td>\n      <td>[898847, 847241, 1110244, 862725, 9416729, 936...</td>\n    </tr>\n  </tbody>\n</table>\n</div>"
     },
     "metadata": {},
     "execution_count": 540
    }
   ],
   "source": [
    "result_lvl_2.head(2)"
   ]
  },
  {
   "source": [
    "будем жить без холодного старта. поэтому иннер."
   ],
   "cell_type": "markdown",
   "metadata": {}
  },
  {
   "cell_type": "code",
   "execution_count": 541,
   "metadata": {},
   "outputs": [],
   "source": [
    "result_lvl_2 = result_lvl_2.merge(own_recomend, on=['user_id'], how='inner')\r\n"
   ]
  },
  {
   "cell_type": "code",
   "execution_count": 542,
   "metadata": {},
   "outputs": [],
   "source": [
    "result_lvl_2.rename(columns={'candidates':'own_recommend'}, inplace=True)"
   ]
  },
  {
   "source": [
    "presicion на трейне"
   ],
   "cell_type": "markdown",
   "metadata": {}
  },
  {
   "cell_type": "code",
   "execution_count": 560,
   "metadata": {},
   "outputs": [
    {
     "output_type": "stream",
     "name": "stdout",
     "text": [
      "precision proba_recomend 0.19730608453320947\nprecision own_recommend 0.2109614491407339\n"
     ]
    }
   ],
   "source": [
    "for lvl in ['proba_recomend', 'own_recommend']:\n",
    "    print('precision', lvl, result_lvl_2.apply(lambda row: precision_at_k(row[lvl], row['actual'], k=5), axis=1).mean())"
   ]
  },
  {
   "cell_type": "code",
   "execution_count": 561,
   "metadata": {},
   "outputs": [
    {
     "output_type": "stream",
     "name": "stdout",
     "text": [
      "recall proba_recomend 0.018848187719341346\nrecall own_recommend 0.021264263774254562\n"
     ]
    }
   ],
   "source": [
    "for lvl in ['proba_recomend', 'own_recommend']:\n",
    "    print('recall', lvl, result_lvl_2.apply(lambda row: recall_at_k(row[lvl], row['actual'], k=5), axis=1).mean())"
   ]
  },
  {
   "source": [
    "а вроде лучше же должно было стать =))) перепроверил, вроде все верно. может это связано с тем что для own_recommend некоторые товары пришли из top_50 популярных. так как для них я пееределал возможность холодного старта, с помощью top50 популярных товаров."
   ],
   "cell_type": "markdown",
   "metadata": {}
  },
  {
   "source": [
    "теперь тест"
   ],
   "cell_type": "markdown",
   "metadata": {}
  },
  {
   "cell_type": "code",
   "execution_count": 545,
   "metadata": {},
   "outputs": [],
   "source": [
    "users_val_lvl_2 = pd.DataFrame(data_val_lvl_2['user_id'].unique())\n",
    "users_val_lvl_2.columns = ['user_id']\n",
    "\n",
    "# Пока только warm start\n",
    "train_users_2 = data_train_lvl_1['user_id'].unique()\n",
    "users_val_lvl_2 = users_val_lvl_2[users_val_lvl_2['user_id'].isin(train_users_2)]\n",
    "\n",
    "users_val_lvl_2['candidates'] = users_val_lvl_2['user_id'].apply(lambda x: recommender.get_own_recommendations(x, N=50))\n",
    "own_recomend_test = users_val_lvl_2.copy()"
   ]
  },
  {
   "cell_type": "code",
   "execution_count": 546,
   "metadata": {},
   "outputs": [],
   "source": [
    "targets_lvl_3 = data_val_lvl_2[['user_id', 'item_id']].copy()\n",
    "targets_lvl_3['target'] = 1  # тут только покупки \n",
    "\n",
    "targets_lvl_3 = users_lvl_2.merge(targets_lvl_3, on=['user_id', 'item_id'], how='left')\n",
    "\n",
    "targets_lvl_3['target'].fillna(0, inplace= True)\n",
    "targets_lvl_3.drop('flag', axis=1, inplace=True)\n",
    "for_predict_test = targets_lvl_2.copy()"
   ]
  },
  {
   "cell_type": "code",
   "execution_count": 547,
   "metadata": {},
   "outputs": [
    {
     "output_type": "execute_result",
     "data": {
      "text/plain": [
       "        user_id  item_id  target\n",
       "0          2070  1105426     0.0\n",
       "1          2070  1092937     0.0\n",
       "2          2070   917033     0.0\n",
       "3          2070   950202     0.0\n",
       "4          2070   944588     0.0\n",
       "...         ...      ...     ...\n",
       "109753     1745  9419525     0.0\n",
       "109754     1745  1076769     0.0\n",
       "109755     1745  1023196     0.0\n",
       "109756     1745   968359     0.0\n",
       "109757     1745   899019     0.0\n",
       "\n",
       "[109758 rows x 3 columns]"
      ],
      "text/html": "<div>\n<style scoped>\n    .dataframe tbody tr th:only-of-type {\n        vertical-align: middle;\n    }\n\n    .dataframe tbody tr th {\n        vertical-align: top;\n    }\n\n    .dataframe thead th {\n        text-align: right;\n    }\n</style>\n<table border=\"1\" class=\"dataframe\">\n  <thead>\n    <tr style=\"text-align: right;\">\n      <th></th>\n      <th>user_id</th>\n      <th>item_id</th>\n      <th>target</th>\n    </tr>\n  </thead>\n  <tbody>\n    <tr>\n      <th>0</th>\n      <td>2070</td>\n      <td>1105426</td>\n      <td>0.0</td>\n    </tr>\n    <tr>\n      <th>1</th>\n      <td>2070</td>\n      <td>1092937</td>\n      <td>0.0</td>\n    </tr>\n    <tr>\n      <th>2</th>\n      <td>2070</td>\n      <td>917033</td>\n      <td>0.0</td>\n    </tr>\n    <tr>\n      <th>3</th>\n      <td>2070</td>\n      <td>950202</td>\n      <td>0.0</td>\n    </tr>\n    <tr>\n      <th>4</th>\n      <td>2070</td>\n      <td>944588</td>\n      <td>0.0</td>\n    </tr>\n    <tr>\n      <th>...</th>\n      <td>...</td>\n      <td>...</td>\n      <td>...</td>\n    </tr>\n    <tr>\n      <th>109753</th>\n      <td>1745</td>\n      <td>9419525</td>\n      <td>0.0</td>\n    </tr>\n    <tr>\n      <th>109754</th>\n      <td>1745</td>\n      <td>1076769</td>\n      <td>0.0</td>\n    </tr>\n    <tr>\n      <th>109755</th>\n      <td>1745</td>\n      <td>1023196</td>\n      <td>0.0</td>\n    </tr>\n    <tr>\n      <th>109756</th>\n      <td>1745</td>\n      <td>968359</td>\n      <td>0.0</td>\n    </tr>\n    <tr>\n      <th>109757</th>\n      <td>1745</td>\n      <td>899019</td>\n      <td>0.0</td>\n    </tr>\n  </tbody>\n</table>\n<p>109758 rows × 3 columns</p>\n</div>"
     },
     "metadata": {},
     "execution_count": 547
    }
   ],
   "source": [
    "targets_lvl_3"
   ]
  },
  {
   "cell_type": "code",
   "execution_count": 548,
   "metadata": {},
   "outputs": [
    {
     "output_type": "execute_result",
     "data": {
      "text/plain": [
       "   user_id  item_id  target  manufacturer  department     brand  \\\n",
       "0     2070  1105426     0.0            69        DELI   Private   \n",
       "1     2070  1092937     0.0          1089  MEAT-PCKGD  National   \n",
       "\n",
       "  commodity_desc   sub_commodity_desc curr_size_of_product age_desc  \\\n",
       "0     SANDWICHES  SANDWICHES - (COLD)                         45-54   \n",
       "1      LUNCHMEAT              BOLOGNA                 16OZ    45-54   \n",
       "\n",
       "  marital_status_code income_desc homeowner_desc hh_comp_desc  \\\n",
       "0                   U      50-74K        Unknown      Unknown   \n",
       "1                   U      50-74K        Unknown      Unknown   \n",
       "\n",
       "  household_size_desc kid_category_desc  \n",
       "0                   1      None/Unknown  \n",
       "1                   1      None/Unknown  "
      ],
      "text/html": "<div>\n<style scoped>\n    .dataframe tbody tr th:only-of-type {\n        vertical-align: middle;\n    }\n\n    .dataframe tbody tr th {\n        vertical-align: top;\n    }\n\n    .dataframe thead th {\n        text-align: right;\n    }\n</style>\n<table border=\"1\" class=\"dataframe\">\n  <thead>\n    <tr style=\"text-align: right;\">\n      <th></th>\n      <th>user_id</th>\n      <th>item_id</th>\n      <th>target</th>\n      <th>manufacturer</th>\n      <th>department</th>\n      <th>brand</th>\n      <th>commodity_desc</th>\n      <th>sub_commodity_desc</th>\n      <th>curr_size_of_product</th>\n      <th>age_desc</th>\n      <th>marital_status_code</th>\n      <th>income_desc</th>\n      <th>homeowner_desc</th>\n      <th>hh_comp_desc</th>\n      <th>household_size_desc</th>\n      <th>kid_category_desc</th>\n    </tr>\n  </thead>\n  <tbody>\n    <tr>\n      <th>0</th>\n      <td>2070</td>\n      <td>1105426</td>\n      <td>0.0</td>\n      <td>69</td>\n      <td>DELI</td>\n      <td>Private</td>\n      <td>SANDWICHES</td>\n      <td>SANDWICHES - (COLD)</td>\n      <td></td>\n      <td>45-54</td>\n      <td>U</td>\n      <td>50-74K</td>\n      <td>Unknown</td>\n      <td>Unknown</td>\n      <td>1</td>\n      <td>None/Unknown</td>\n    </tr>\n    <tr>\n      <th>1</th>\n      <td>2070</td>\n      <td>1092937</td>\n      <td>0.0</td>\n      <td>1089</td>\n      <td>MEAT-PCKGD</td>\n      <td>National</td>\n      <td>LUNCHMEAT</td>\n      <td>BOLOGNA</td>\n      <td>16OZ</td>\n      <td>45-54</td>\n      <td>U</td>\n      <td>50-74K</td>\n      <td>Unknown</td>\n      <td>Unknown</td>\n      <td>1</td>\n      <td>None/Unknown</td>\n    </tr>\n  </tbody>\n</table>\n</div>"
     },
     "metadata": {},
     "execution_count": 548
    }
   ],
   "source": [
    "targets_lvl_3 = targets_lvl_3.merge(item_features, on='item_id', how='left')\n",
    "targets_lvl_3 = targets_lvl_3.merge(user_features, on='user_id', how='left')\n",
    "\n",
    "targets_lvl_3.head(2)"
   ]
  },
  {
   "cell_type": "code",
   "execution_count": 549,
   "metadata": {},
   "outputs": [],
   "source": [
    "X_test = targets_lvl_3.drop('target', axis=1)\n",
    "y_test = targets_lvl_3[['target']]"
   ]
  },
  {
   "cell_type": "code",
   "execution_count": 550,
   "metadata": {},
   "outputs": [],
   "source": [
    "test_preds = lgb.predict_proba(X_train)"
   ]
  },
  {
   "cell_type": "code",
   "execution_count": 551,
   "metadata": {},
   "outputs": [],
   "source": [
    "for_predict_test['predict_proba'] = test_preds[:,1]"
   ]
  },
  {
   "cell_type": "code",
   "execution_count": 552,
   "metadata": {},
   "outputs": [
    {
     "output_type": "execute_result",
     "data": {
      "text/plain": [
       "   user_id                                             actual\n",
       "0        1  [821867, 834484, 856942, 865456, 889248, 90795...\n",
       "1        3  [835476, 851057, 872021, 878302, 879948, 90963..."
      ],
      "text/html": "<div>\n<style scoped>\n    .dataframe tbody tr th:only-of-type {\n        vertical-align: middle;\n    }\n\n    .dataframe tbody tr th {\n        vertical-align: top;\n    }\n\n    .dataframe thead th {\n        text-align: right;\n    }\n</style>\n<table border=\"1\" class=\"dataframe\">\n  <thead>\n    <tr style=\"text-align: right;\">\n      <th></th>\n      <th>user_id</th>\n      <th>actual</th>\n    </tr>\n  </thead>\n  <tbody>\n    <tr>\n      <th>0</th>\n      <td>1</td>\n      <td>[821867, 834484, 856942, 865456, 889248, 90795...</td>\n    </tr>\n    <tr>\n      <th>1</th>\n      <td>3</td>\n      <td>[835476, 851057, 872021, 878302, 879948, 90963...</td>\n    </tr>\n  </tbody>\n</table>\n</div>"
     },
     "metadata": {},
     "execution_count": 552
    }
   ],
   "source": [
    "result_lvl_3 = data_val_lvl_2.groupby('user_id')['item_id'].unique().reset_index()\n",
    "result_lvl_3.columns=['user_id', 'actual']\n",
    "result_lvl_3.head(2)"
   ]
  },
  {
   "cell_type": "code",
   "execution_count": 553,
   "metadata": {},
   "outputs": [],
   "source": [
    "result_lvl_3['proba_recomend'] = result_lvl_3['user_id'].apply(lambda x: items_by_proba(for_predict_test, x))\n"
   ]
  },
  {
   "cell_type": "code",
   "execution_count": 554,
   "metadata": {},
   "outputs": [],
   "source": [
    "result_lvl_3 = result_lvl_3.merge(own_recomend_test, on=['user_id'], how='inner')\n"
   ]
  },
  {
   "cell_type": "code",
   "execution_count": 555,
   "metadata": {},
   "outputs": [],
   "source": [
    "result_lvl_3.rename(columns={'candidates':'own_recommend'}, inplace=True)"
   ]
  },
  {
   "cell_type": "code",
   "execution_count": 558,
   "metadata": {},
   "outputs": [
    {
     "output_type": "stream",
     "name": "stdout",
     "text": [
      "precision proba_recomend 0.12000000000000001\nprecision own_recommend 0.17236648701616858\n"
     ]
    }
   ],
   "source": [
    "for lvl in ['proba_recomend', 'own_recommend']:\n",
    "    print('precision', lvl, result_lvl_3.apply(lambda row: precision_at_k(row[lvl], row['actual'], k=5), axis=1).mean())"
   ]
  },
  {
   "cell_type": "code",
   "execution_count": 559,
   "metadata": {},
   "outputs": [
    {
     "output_type": "stream",
     "name": "stdout",
     "text": [
      "recall proba_recomend 0.012339072322878144\nrecall own_recommend 0.02154902967940795\n"
     ]
    }
   ],
   "source": [
    "for lvl in ['proba_recomend', 'own_recommend']:\n",
    "    print('recall', lvl, result_lvl_3.apply(lambda row: recall_at_k(row[lvl], row['actual'], k=5), axis=1).mean())"
   ]
  },
  {
   "cell_type": "code",
   "execution_count": null,
   "metadata": {},
   "outputs": [],
   "source": [
    "на val2 все тоже очень плохо. непонимаю почему так происходит. времени добавить фичей нету к сожалению. буду думать что тут не так."
   ]
  }
 ],
 "metadata": {
  "colab": {
   "name": "hw_webinar_6.ipynb",
   "provenance": []
  },
  "kernelspec": {
   "name": "python385jvsc74a57bd0f7c604d00f38437f4df57123c10451e0676060e1a3eca5c56f25a4495d595057",
   "display_name": "Python 3.8.5 64-bit"
  },
  "language_info": {
   "codemirror_mode": {
    "name": "ipython",
    "version": 3
   },
   "file_extension": ".py",
   "mimetype": "text/x-python",
   "name": "python",
   "nbconvert_exporter": "python",
   "pygments_lexer": "ipython3",
   "version": "3.8.5"
  },
  "metadata": {
   "interpreter": {
    "hash": "f7c604d00f38437f4df57123c10451e0676060e1a3eca5c56f25a4495d595057"
   }
  }
 },
 "nbformat": 4,
 "nbformat_minor": 1
}