{
 "metadata": {
  "language_info": {
   "codemirror_mode": {
    "name": "ipython",
    "version": 3
   },
   "file_extension": ".py",
   "mimetype": "text/x-python",
   "name": "python",
   "nbconvert_exporter": "python",
   "pygments_lexer": "ipython3",
   "version": "3.8.5-final"
  },
  "orig_nbformat": 2,
  "kernelspec": {
   "name": "python3",
   "display_name": "Python 3.8.5 64-bit",
   "metadata": {
    "interpreter": {
     "hash": "f7c604d00f38437f4df57123c10451e0676060e1a3eca5c56f25a4495d595057"
    }
   }
  }
 },
 "nbformat": 4,
 "nbformat_minor": 2,
 "cells": [
  {
   "source": [
    "во всех формулах из лекции до ap_k() есть смысловая ошибка\n",
    "```\n",
    "flags = np.isin(bought_list, recommended_list)\n",
    "```\n",
    "должно быть\n",
    "```   \n",
    "flags = np.isin(recommended_list, bought_list)\n",
    "```\n"
   ],
   "cell_type": "markdown",
   "metadata": {}
  },
  {
   "cell_type": "code",
   "execution_count": 95,
   "metadata": {},
   "outputs": [],
   "source": [
    "def hit_rate(recommended_list, bought_list):\n",
    "    \n",
    "    bought_list = np.array(bought_list)\n",
    "    recommended_list = np.array(recommended_list)\n",
    "    \n",
    "    flags = np.isin(recommended_list, bought_list)\n",
    "\n",
    "    hit_rate = (flags.sum() > 0) * 1\n",
    "    \n",
    "    return hit_rate\n",
    "\n",
    "\n",
    "def hit_rate_at_k(recommended_list, bought_list, k=5):\n",
    "    \n",
    "    bought_list = np.array(bought_list)\n",
    "    recommended_list = np.array(recommended_list[:k])\n",
    "    \n",
    "    flags = np.isin(recommended_list, bought_list)    \n",
    "    \n",
    "    hit_rate_at_k = (flags.sum() > 0) * 1\n",
    "    \n",
    "    return hit_rate_at_k\n",
    "    \n",
    "    "
   ]
  },
  {
   "cell_type": "code",
   "execution_count": 96,
   "metadata": {},
   "outputs": [],
   "source": [
    "import numpy as np\n",
    "recommended_list = [156, 143, 1134, 991, 27, 1543, 3345, 533, 11, 43] #id товаров\n",
    "bought_list = [521, 32, 143, 991]\n"
   ]
  },
  {
   "cell_type": "code",
   "execution_count": 97,
   "metadata": {},
   "outputs": [
    {
     "output_type": "execute_result",
     "data": {
      "text/plain": [
       "1"
      ]
     },
     "metadata": {},
     "execution_count": 97
    }
   ],
   "source": [
    "hit_rate_at_k(recommended_list, bought_list, k=4)"
   ]
  },
  {
   "cell_type": "code",
   "execution_count": 98,
   "metadata": {},
   "outputs": [],
   "source": [
    "def precision(recommended_list, bought_list):\n",
    "    \n",
    "    bought_list = np.array(bought_list)\n",
    "    recommended_list = np.array(recommended_list)\n",
    "    \n",
    "    flags = np.isin(recommended_list, bought_list)\n",
    "    \n",
    "    precision = flags.sum() / len(recommended_list)\n",
    "    \n",
    "    return precision\n",
    "\n",
    "\n",
    "def precision_at_k(recommended_list, bought_list, k=5):\n",
    "    \n",
    "    bought_list = np.array(bought_list)\n",
    "    recommended_list = np.array(recommended_list)\n",
    "    \n",
    "    bought_list = bought_list  # Тут нет [:k] !!\n",
    "    recommended_list = recommended_list[:k]\n",
    "    \n",
    "    flags = np.isin(recommended_list, bought_list)\n",
    "    precision = flags.sum() / len(recommended_list)\n",
    "    \n",
    "    \n",
    "    return precision\n",
    "\n",
    "\n",
    "def money_precision_at_k(recommended_list, bought_list, prices_recommended, k=5):\n",
    "        \n",
    "    bought_list = np.array(bought_list)\n",
    "    recommended_list = np.array(recommended_list[:k])\n",
    "    prices_recommended  = np.array(prices_recommended[:k])\n",
    "\n",
    "    flags = np.isin(recommended_list, bought_list)\n",
    "\n",
    "    money_precision_at_k = flags.dot(prices_recommended.T).sum() / prices_recommended.sum()\n",
    "    \n",
    "    return money_precision_at_k"
   ]
  },
  {
   "cell_type": "code",
   "execution_count": 99,
   "metadata": {},
   "outputs": [],
   "source": [
    "bought_list = [502, 512 , 1, 991, 2]\n",
    "recommended_list = [51, 512, 75, 99, 991, 7, 1, 432]\n",
    "prices_recommended = [400, 60, 40, 40, 90 , 10 , 40, 60]"
   ]
  },
  {
   "cell_type": "code",
   "execution_count": 100,
   "metadata": {},
   "outputs": [
    {
     "output_type": "execute_result",
     "data": {
      "text/plain": [
       "0.27941176470588236"
      ]
     },
     "metadata": {},
     "execution_count": 100
    }
   ],
   "source": [
    "money_precision_at_k(recommended_list, bought_list, prices_recommended, k=7)"
   ]
  },
  {
   "cell_type": "code",
   "execution_count": 101,
   "metadata": {},
   "outputs": [],
   "source": [
    "def recall(recommended_list, bought_list):\n",
    "    \n",
    "    bought_list = np.array(bought_list)\n",
    "    recommended_list = np.array(recommended_list)\n",
    "    \n",
    "    flags = np.isin(recommended_list, bought_list)\n",
    "    \n",
    "    recall = flags.sum() / len(bought_list)\n",
    "    \n",
    "    return recall\n",
    "\n",
    "\n",
    "def recall_at_k(recommended_list, bought_list, k=5):\n",
    "    \n",
    "    bought_list = np.array(bought_list)\n",
    "    recommended_list = np.array(recommended_list[:k])\n",
    "    \n",
    "    flags = np.isin(recommended_list, bought_list)\n",
    "    recall_at_k = flags.sum() / len(bought_list)\n",
    "    \n",
    "    return recall_at_k\n",
    "\n",
    "\n",
    "def money_recall_at_k(recommended_list, bought_list, prices_recommended, prices_bought, k=5):\n",
    "    \n",
    "    bought_list = np.array(bought_list)\n",
    "    recommended_list = np.array(recommended_list[:k])\n",
    "    prices_recommended  = np.array(prices_recommended[:k])\n",
    "    prices_bought = np.array(prices_bought)\n",
    "    \n",
    "    flags = np.isin(recommended_list, bought_list)\n",
    "    \n",
    "    money_recall_at_k = flags.dot(prices_recommended) / bought_list.dot(prices_bought.T)\n",
    "    \n",
    "    \n",
    "    return money_recall_at_k"
   ]
  },
  {
   "cell_type": "code",
   "execution_count": 102,
   "metadata": {},
   "outputs": [
    {
     "output_type": "execute_result",
     "data": {
      "text/plain": [
       "0.6"
      ]
     },
     "metadata": {},
     "execution_count": 102
    }
   ],
   "source": [
    "recall(recommended_list, bought_list)"
   ]
  },
  {
   "cell_type": "code",
   "execution_count": 103,
   "metadata": {},
   "outputs": [],
   "source": [
    "prices_bought = [10, 50, 100, 200 ,300]"
   ]
  },
  {
   "cell_type": "code",
   "execution_count": 104,
   "metadata": {},
   "outputs": [
    {
     "output_type": "stream",
     "name": "stdout",
     "text": [
      "0.0\n0.00026141512722202857\n0.00026141512722202857\n0.00026141512722202857\n0.0006535378180550714\n0.0006535378180550714\n0.0008278145695364238\n0.0008278145695364238\n"
     ]
    }
   ],
   "source": [
    "for i in range(1, 9):\n",
    "    print(money_recall_at_k(recommended_list, bought_list, prices_recommended, prices_bought, k=i))"
   ]
  },
  {
   "source": [
    "в лекци ошибка - функция ap_k не может посчитать k = \"длинна списка рекомендаций' из-за:\n",
    "```\n",
    "for i in range(1, k+1):\n",
    "        \n",
    "        if flags[i] == True:\n",
    "```\n",
    "тут будет перебор индекса в этом случае, так что я подправил формулу что бы она считала корректно.\n"
   ],
   "cell_type": "markdown",
   "metadata": {}
  },
  {
   "cell_type": "code",
   "execution_count": 105,
   "metadata": {},
   "outputs": [],
   "source": [
    "def ap_k(recommended_list, bought_list, k=5):\n",
    "    \n",
    "    bought_list = np.array(bought_list)\n",
    "    recommended_list = np.array(recommended_list)\n",
    "    \n",
    "    flags = np.isin(recommended_list, bought_list)\n",
    "    \n",
    "    if sum(flags) == 0:\n",
    "        return 0\n",
    "    \n",
    "    sum_ = 0\n",
    "    for i in range(k):\n",
    "        \n",
    "        if flags[i] == True:\n",
    "            p_k = precision_at_k(recommended_list, bought_list, k=i+1)\n",
    "            sum_ += p_k\n",
    "            \n",
    "    result = sum_ / sum(flags)\n",
    "    \n",
    "    return result"
   ]
  },
  {
   "cell_type": "code",
   "execution_count": 166,
   "metadata": {},
   "outputs": [],
   "source": [
    "users_purchases = {\n",
    "    'user1': {\n",
    "        'price_bought' : [10, 50, 100, 200 ,300],\n",
    "        'bought_list' : [502, 512 , 1, 991, 2],\n",
    "        'recommended_list' : [51, 512, 75, 99, 991, 7, 1, 432]\n",
    "\n",
    "    },\n",
    "    'user2': {\n",
    "        'price_bought' : [10, 50, 100, 200 ,300],\n",
    "        'bought_list' : [502, 13 , 99, 991, 2],\n",
    "        'recommended_list' : [51, 13, 75, 99, 991, 7, 1, 432]\n",
    "    },\n",
    "    'user3': {\n",
    "        'price_bought' : [10, 50, 100, 200 ,300],\n",
    "        'bought_list' : [502, 13 , 99, 991, 2],\n",
    "        'recommended_list' : [1, 1, 1, 1, 991, 7, 1, 1]\n",
    "    }\n",
    " }"
   ]
  },
  {
   "cell_type": "code",
   "execution_count": 167,
   "metadata": {},
   "outputs": [],
   "source": [
    "def map_k(users_purchases, k=5):\n",
    "        \n",
    "    sum_ = 0\n",
    "    for user in users_purchases:\n",
    "        sum_ += ap_k(\n",
    "            users_purchases[user]['recommended_list'],\n",
    "            users_purchases[user]['bought_list'],\n",
    "            k=k\n",
    "            )\n",
    "\n",
    "    result = sum_ / len(users_purchases)\n",
    "\n",
    "    return result"
   ]
  },
  {
   "cell_type": "code",
   "execution_count": 168,
   "metadata": {},
   "outputs": [
    {
     "output_type": "stream",
     "name": "stdout",
     "text": [
      "0.0\n0.1111111111111111\n0.1111111111111111\n0.16666666666666666\n0.3444444444444444\n0.3444444444444444\n0.39206349206349206\n0.39206349206349206\n"
     ]
    }
   ],
   "source": [
    "for i in range(1,9):\n",
    "    print(map_k(users_purchases=users_purchases, k=i))"
   ]
  },
  {
   "cell_type": "code",
   "execution_count": 169,
   "metadata": {},
   "outputs": [
    {
     "output_type": "execute_result",
     "data": {
      "text/plain": [
       "0.44285714285714284"
      ]
     },
     "metadata": {},
     "execution_count": 169
    }
   ],
   "source": [
    "ap_k(recommended_list, bought_list, k=8)"
   ]
  },
  {
   "cell_type": "code",
   "execution_count": 170,
   "metadata": {},
   "outputs": [],
   "source": [
    "def reciprocal_rank(users_purchases, k=5):\n",
    "    result = []\n",
    "\n",
    "    for user in users_purchases:\n",
    "\n",
    "        recommended_list = np.array(users_purchases[user]['recommended_list'][:5])\n",
    "        bought_list = np.array(users_purchases[user]['bought_list'])\n",
    "        \n",
    "        flags = np.isin(recommended_list, bought_list)\n",
    "\n",
    "        if flags.any():\n",
    "            result.append(1 / (1+flags.nonzero()[0][0]))    \n",
    "        else:\n",
    "            result.append(0)\n",
    "    return sum(result)/len(result)"
   ]
  },
  {
   "cell_type": "code",
   "execution_count": 171,
   "metadata": {},
   "outputs": [
    {
     "output_type": "execute_result",
     "data": {
      "text/plain": [
       "0.39999999999999997"
      ]
     },
     "metadata": {},
     "execution_count": 171
    }
   ],
   "source": [
    "reciprocal_rank(users_purchases)"
   ]
  }
 ]
}